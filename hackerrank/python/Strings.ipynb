{
  "nbformat": 4,
  "nbformat_minor": 0,
  "metadata": {
    "colab": {
      "name": "Strings.ipynb",
      "provenance": [],
      "toc_visible": true
    },
    "kernelspec": {
      "name": "python3",
      "display_name": "Python 3"
    }
  },
  "cells": [
    {
      "cell_type": "markdown",
      "metadata": {
        "id": "s1lQ79KvhWlN",
        "colab_type": "text"
      },
      "source": [
        "# **Designer Door Mat Problem**\n",
        "\n",
        "\n",
        "A door mat designer wants a pattern like this: \n",
        "\n",
        "\n",
        "Size: 7 x 21\n",
        "\n",
        "    ---------.|.---------\n",
        "    ------.|..|..|.------\n",
        "    ---.|..|..|..|..|.---\n",
        "    -------WELCOME-------\n",
        "    ---.|..|..|..|..|.---\n",
        "    ------.|..|..|.------\n",
        "    ---------.|.---------\n",
        "\n",
        "Help him create this pattern.\n",
        "\n",
        "\n",
        "\n",
        "\n",
        "\n",
        "\n"
      ]
    },
    {
      "cell_type": "code",
      "metadata": {
        "id": "538ZDnGlhS6N",
        "colab_type": "code",
        "outputId": "603d97a0-a150-4beb-de8a-c62dd27f0f5d",
        "colab": {
          "base_uri": "https://localhost:8080/",
          "height": 225
        }
      },
      "source": [
        "if __name__ == \"__main__\":\n",
        "    r,c=map(int,input().split())\n",
        "    dash_count=(c-3)//2\n",
        "    dot_pipe_count=1\n",
        "    mid=(r)//2\n",
        "    for i in range(r):\n",
        "        \n",
        "        if(i==mid):\n",
        "            print(\"-\"*((c-7)//2)+ \"WELCOME\" + \"-\"*((c-7)//2))\n",
        "        else:\n",
        "            print(\"-\"*dash_count + \".|.\"*dot_pipe_count + \"-\"*dash_count)\n",
        "            if(i>=mid+1):\n",
        "                dash_count+=3\n",
        "                dot_pipe_count-=2\n",
        "            elif(i<mid-1):\n",
        "                dash_count-=3\n",
        "                dot_pipe_count+=2"
      ],
      "execution_count": 0,
      "outputs": [
        {
          "output_type": "stream",
          "text": [
            "11 33\n",
            "---------------.|.---------------\n",
            "------------.|..|..|.------------\n",
            "---------.|..|..|..|..|.---------\n",
            "------.|..|..|..|..|..|..|.------\n",
            "---.|..|..|..|..|..|..|..|..|.---\n",
            "-------------WELCOME-------------\n",
            "---.|..|..|..|..|..|..|..|..|.---\n",
            "------.|..|..|..|..|..|..|.------\n",
            "---------.|..|..|..|..|.---------\n",
            "------------.|..|..|.------------\n",
            "---------------.|.---------------\n"
          ],
          "name": "stdout"
        }
      ]
    },
    {
      "cell_type": "markdown",
      "metadata": {
        "id": "W_sCr1pViE7X",
        "colab_type": "text"
      },
      "source": [
        "**Complexity of this code is O(n)**\n",
        "\n",
        "---\n",
        "\n"
      ]
    },
    {
      "cell_type": "markdown",
      "metadata": {
        "id": "52zOqbfvmP3B",
        "colab_type": "text"
      },
      "source": [
        "### **String Formatting** \n",
        "given a number e.g. 17, convert all number from 1 to 17 in all number systems i.e. Decimal, Octal, hexadecimal and binary.\n",
        "\n",
        "Sample Output:\n",
        "\n",
        "    1     1     1     1\n",
        "    2     2     2    10\n",
        "    3     3     3    11\n",
        "    4     4     4   100\n",
        "    5     5     5   101\n",
        "    6     6     6   110\n",
        "    7     7     7   111\n",
        "    8    10     8  1000\n",
        "    9    11     9  1001\n",
        "    10    12     A  1010\n",
        "    11    13     B  1011\n",
        "    12    14     C  1100\n",
        "    13    15     D  1101\n",
        "    14    16     E  1110\n",
        "    15    17     F  1111\n",
        "    16    20    10 10000\n",
        "    17    21    11 10001  \n",
        "\n"
      ]
    },
    {
      "cell_type": "code",
      "metadata": {
        "id": "-uhUqoPFmteK",
        "colab_type": "code",
        "outputId": "523e582d-8559-4671-ad93-cceba4ab609a",
        "colab": {
          "base_uri": "https://localhost:8080/",
          "height": 207
        }
      },
      "source": [
        "def print_formatted(number):\n",
        "    space=len(\"{0:b}\".format(number))\n",
        "    for i in range(1,number+1):\n",
        "        print(\"{0:{width}d} {0:{width}o} {0:{width}X} {0:{width}b}\".format(i,width=space))\n",
        "if __name__ == '__main__':\n",
        "    n = int(input())\n",
        "    print_formatted(n)"
      ],
      "execution_count": 0,
      "outputs": [
        {
          "output_type": "stream",
          "text": [
            "10\n",
            "   1    1    1    1\n",
            "   2    2    2   10\n",
            "   3    3    3   11\n",
            "   4    4    4  100\n",
            "   5    5    5  101\n",
            "   6    6    6  110\n",
            "   7    7    7  111\n",
            "   8   10    8 1000\n",
            "   9   11    9 1001\n",
            "  10   12    A 1010\n"
          ],
          "name": "stdout"
        }
      ]
    },
    {
      "cell_type": "markdown",
      "metadata": {
        "id": "SQS8QM91m5J5",
        "colab_type": "text"
      },
      "source": [
        "**Complexity of this code is O(n)**\n",
        "\n",
        "---\n",
        "\n"
      ]
    },
    {
      "cell_type": "markdown",
      "metadata": {
        "id": "uYRbOsfgAbfC",
        "colab_type": "text"
      },
      "source": [
        "### **sWAP cASE**\n",
        "\n",
        "make upper case to lower case and vice versa in a given string.\n",
        "\n"
      ]
    },
    {
      "cell_type": "code",
      "metadata": {
        "id": "J-gszU7lAhPz",
        "colab_type": "code",
        "outputId": "7f62671a-fec7-4b07-eb7a-ceea22774f33",
        "colab": {
          "base_uri": "https://localhost:8080/",
          "height": 51
        }
      },
      "source": [
        "def swap_case(s):\n",
        "    t=\"\"\n",
        "    for i in range(len(s)):\n",
        "        if(s[i]==s[i].lower()):\n",
        "           t+= s[i].upper()\n",
        "        else:\n",
        "            t+=s[i].lower()\n",
        "    return t\n",
        "\n",
        "if __name__ == '__main__':\n",
        "    s = input()\n",
        "    result = swap_case(s)\n",
        "    print(result)"
      ],
      "execution_count": 0,
      "outputs": [
        {
          "output_type": "stream",
          "text": [
            "HackerRank.com presents \"Pythonist 2\".\n",
            "hACKERrANK.COM PRESENTS \"pYTHONIST 2\".\n"
          ],
          "name": "stdout"
        }
      ]
    },
    {
      "cell_type": "markdown",
      "metadata": {
        "id": "65O6DtOmAtQV",
        "colab_type": "text"
      },
      "source": [
        "Complexity is O(n) i.e equal to length of the string.\n",
        "\n",
        "---\n",
        "\n"
      ]
    },
    {
      "cell_type": "markdown",
      "metadata": {
        "id": "KYJNIcvLA7kD",
        "colab_type": "text"
      },
      "source": [
        "### **String Split and Join** \n",
        "\n",
        "input: \"This is a string\"\n",
        "Output: \"This-is-a-string\"\n",
        "\n",
        "Split the string and then join it."
      ]
    },
    {
      "cell_type": "code",
      "metadata": {
        "id": "bBlrAAT5BEsZ",
        "colab_type": "code",
        "outputId": "eca4ee22-2a89-4939-d90b-b01e027a219c",
        "colab": {
          "base_uri": "https://localhost:8080/",
          "height": 51
        }
      },
      "source": [
        "def split_and_join(line):\n",
        "    # write your code here\n",
        "    line=line.split()\n",
        "    return \"-\".join(line)\n",
        "\n",
        "if __name__ == '__main__':\n",
        "    line = input()\n",
        "    result = split_and_join(line)\n",
        "    print(result)"
      ],
      "execution_count": 0,
      "outputs": [
        {
          "output_type": "stream",
          "text": [
            "This is a string\n",
            "This-is-a-string\n"
          ],
          "name": "stdout"
        }
      ]
    },
    {
      "cell_type": "markdown",
      "metadata": {
        "id": "pWjd8x8GDKCz",
        "colab_type": "text"
      },
      "source": [
        "Complexity is O(1)\n",
        "\n",
        "---\n",
        "\n"
      ]
    },
    {
      "cell_type": "markdown",
      "metadata": {
        "id": "-yEs_8qbDAsh",
        "colab_type": "text"
      },
      "source": [
        "### **What's Your Name?** \n",
        "Input:\n",
        "Ross\n",
        "Taylor\n",
        "\n",
        "Output:\n",
        "Hello Ross Taylor! You just delved into python."
      ]
    },
    {
      "cell_type": "code",
      "metadata": {
        "id": "ZYQspKvODNpi",
        "colab_type": "code",
        "outputId": "08378a68-3ac5-48c4-e136-04111cea5cf9",
        "colab": {
          "base_uri": "https://localhost:8080/",
          "height": 68
        }
      },
      "source": [
        "def print_full_name(a, b):\n",
        "    print(\"Hello \" + a + \" \" + b + \"! You just delved into python.\")\n",
        "\n",
        "if __name__ == '__main__':\n",
        "    first_name = input()\n",
        "    last_name = input()\n",
        "    print_full_name(first_name, last_name)"
      ],
      "execution_count": 0,
      "outputs": [
        {
          "output_type": "stream",
          "text": [
            "Misbah\n",
            "Afzal\n",
            "Hello Misbah Afzal! You just delved into python.\n"
          ],
          "name": "stdout"
        }
      ]
    },
    {
      "cell_type": "markdown",
      "metadata": {
        "id": "bwlVcZhzDSpg",
        "colab_type": "text"
      },
      "source": [
        "Complexity is O(1)\n",
        "\n",
        "---\n",
        "\n"
      ]
    },
    {
      "cell_type": "markdown",
      "metadata": {
        "id": "VYjhuaeXJEyD",
        "colab_type": "text"
      },
      "source": [
        "### **Mutations** \n",
        "\n",
        "We have seen that lists are mutable (they can be changed), and tuples are immutable (they cannot be changed). \n",
        "Example:\n",
        ">>> string = \"abracadabra\"\n",
        ">>> l = list(string)\n",
        ">>> l[5] = 'k'\n",
        ">>> string = ''.join(l)\n",
        ">>> print string\n",
        "abrackdabra\n",
        "\n"
      ]
    },
    {
      "cell_type": "code",
      "metadata": {
        "id": "RROHubDWJPnQ",
        "colab_type": "code",
        "outputId": "d95d4c91-bef7-41fd-95f3-940e089c0827",
        "colab": {
          "base_uri": "https://localhost:8080/",
          "height": 68
        }
      },
      "source": [
        "def mutate_string(string, position, character):\n",
        "    string=list(string)\n",
        "    string[position]=character \n",
        "    string=\"\".join(string)\n",
        "    return string\n",
        "\n",
        "if __name__ == '__main__':\n",
        "    s = input()\n",
        "    i, c = input().split()\n",
        "    s_new = mutate_string(s, int(i), c)\n",
        "    print(s_new)"
      ],
      "execution_count": 0,
      "outputs": [
        {
          "output_type": "stream",
          "text": [
            "abracadabra\n",
            "5 k\n",
            "abrackdabra\n"
          ],
          "name": "stdout"
        }
      ]
    },
    {
      "cell_type": "markdown",
      "metadata": {
        "id": "oNCqrkyIJXoC",
        "colab_type": "text"
      },
      "source": [
        "Complexity is O(1)\n",
        "\n",
        "---\n",
        "\n"
      ]
    },
    {
      "cell_type": "markdown",
      "metadata": {
        "id": "-zzzApI9N3T6",
        "colab_type": "text"
      },
      "source": [
        "### **Find a string** \n",
        "Count number of occurence of a substing in a string.\n",
        "\n",
        "\n"
      ]
    },
    {
      "cell_type": "code",
      "metadata": {
        "id": "VyS85qKKN-0l",
        "colab_type": "code",
        "outputId": "4e9de59c-64d6-4176-a3a7-20369ed38ae3",
        "colab": {
          "base_uri": "https://localhost:8080/",
          "height": 68
        }
      },
      "source": [
        "def count_substring(string, sub_string):\n",
        "    count=0\n",
        "    for i in range(len(string)-len(sub_string)+1):\n",
        "        if(string[i:i+len(sub_string)]==sub_string):\n",
        "            count+=1\n",
        "    return count\n",
        "\n",
        "if __name__ == '__main__':\n",
        "    string = input().strip()\n",
        "    sub_string = input().strip()\n",
        "    \n",
        "    count = count_substring(string, sub_string)\n",
        "    print(count)"
      ],
      "execution_count": 0,
      "outputs": [
        {
          "output_type": "stream",
          "text": [
            "ABCDCDC\n",
            "CDC\n",
            "2\n"
          ],
          "name": "stdout"
        }
      ]
    },
    {
      "cell_type": "markdown",
      "metadata": {
        "id": "tcfOh6niOGgY",
        "colab_type": "text"
      },
      "source": [
        "Complexity is O(n)\n",
        "\n",
        "---\n",
        "\n"
      ]
    },
    {
      "cell_type": "markdown",
      "metadata": {
        "id": "3UglMyS5UWse",
        "colab_type": "text"
      },
      "source": [
        "### **String Validator**\n",
        "\n",
        "In the first line, print True if  has any alphanumeric characters. Otherwise, print False.\n",
        "In the second line, print True if  has any alphabetical characters. Otherwise, print False.\n",
        "In the third line, print True if  has any digits. Otherwise, print False.\n",
        "In the fourth line, print True if  has any lowercase characters. Otherwise, print False.\n",
        "In the fifth line, print True if  has any uppercase characters. Otherwise, print False.\n",
        "\n"
      ]
    },
    {
      "cell_type": "code",
      "metadata": {
        "id": "jf6JqARBUbRM",
        "colab_type": "code",
        "outputId": "03acb6c2-b1c2-4630-b9fe-fce84d001672",
        "colab": {
          "base_uri": "https://localhost:8080/",
          "height": 119
        }
      },
      "source": [
        "if __name__ == '__main__':\n",
        "    s = input()\n",
        "    print(any(i.isalnum() for i in s))\n",
        "    print(any(i.isalpha() for i in s))\n",
        "    print(any(i.isdigit() for i in s))\n",
        "    print(any(i.islower() for i in s))\n",
        "    print(any(i.isupper() for i in s))\n",
        "\n"
      ],
      "execution_count": 0,
      "outputs": [
        {
          "output_type": "stream",
          "text": [
            "qA2\n",
            "True\n",
            "True\n",
            "True\n",
            "True\n",
            "True\n"
          ],
          "name": "stdout"
        }
      ]
    },
    {
      "cell_type": "markdown",
      "metadata": {
        "id": "BNasFK4_UhUQ",
        "colab_type": "text"
      },
      "source": [
        "Complexity is O(1).\n",
        "\n",
        "---\n",
        "\n"
      ]
    },
    {
      "cell_type": "markdown",
      "metadata": {
        "id": "CVTXG-AIaHUl",
        "colab_type": "text"
      },
      "source": [
        "### **Text Alignment**\n",
        "\n",
        "Build this pattern using ljust, center and rjust functions.\n",
        "\n",
        " \n",
        " \n",
        "\n",
        "```H    \n",
        "   HHH   \n",
        "  HHHHH  \n",
        " HHHHHHH \n",
        "HHHHHHHHH\n",
        "  HHHHH               HHHHH             \n",
        "  HHHHH               HHHHH             \n",
        "  HHHHH               HHHHH             \n",
        "  HHHHH               HHHHH             \n",
        "  HHHHH               HHHHH             \n",
        "  HHHHH               HHHHH             \n",
        "  HHHHHHHHHHHHHHHHHHHHHHHHH   \n",
        "  HHHHHHHHHHHHHHHHHHHHHHHHH   \n",
        "  HHHHHHHHHHHHHHHHHHHHHHHHH   \n",
        "  HHHHH               HHHHH             \n",
        "  HHHHH               HHHHH             \n",
        "  HHHHH               HHHHH             \n",
        "  HHHHH               HHHHH             \n",
        "  HHHHH               HHHHH             \n",
        "  HHHHH               HHHHH             \n",
        "                    HHHHHHHHH \n",
        "                     HHHHHHH  \n",
        "                      HHHHH   \n",
        "                       HHH    \n",
        "                        H \n",
        "\n",
        "```\n",
        "\n"
      ]
    },
    {
      "cell_type": "code",
      "metadata": {
        "id": "gPbBKnqFabe-",
        "colab_type": "code",
        "outputId": "1688e855-51f0-4b97-efff-8f1c8786ef5c",
        "colab": {
          "base_uri": "https://localhost:8080/",
          "height": 459
        }
      },
      "source": [
        "#Replace all ______ with rjust, ljust or center. \n",
        "\n",
        "thickness = int(input()) #This must be an odd number\n",
        "c = 'H'\n",
        "\n",
        "#Top Cone\n",
        "for i in range(thickness):\n",
        "    print((c*i).rjust(thickness-1)+c+(c*i).ljust(thickness-1))\n",
        "\n",
        "#Top Pillars\n",
        "for i in range(thickness+1):\n",
        "    print((c*thickness).center(thickness*2)+(c*thickness).center(thickness*6))\n",
        "\n",
        "#Middle Belt\n",
        "for i in range((thickness+1)//2):\n",
        "    print((c*thickness*5).center(thickness*6))    \n",
        "\n",
        "#Bottom Pillars\n",
        "for i in range(thickness+1):\n",
        "    print((c*thickness).center(thickness*2)+(c*thickness).center(thickness*6))    \n",
        "\n",
        "#Bottom Cone\n",
        "for i in range(thickness):\n",
        "    print(((c*(thickness-i-1)).rjust(thickness)+c+(c*(thickness-i-1)).ljust(thickness)).rjust(thickness*6))\n",
        "\n"
      ],
      "execution_count": 0,
      "outputs": [
        {
          "output_type": "stream",
          "text": [
            "5\n",
            "    H    \n",
            "   HHH   \n",
            "  HHHHH  \n",
            " HHHHHHH \n",
            "HHHHHHHHH\n",
            "  HHHHH               HHHHH             \n",
            "  HHHHH               HHHHH             \n",
            "  HHHHH               HHHHH             \n",
            "  HHHHH               HHHHH             \n",
            "  HHHHH               HHHHH             \n",
            "  HHHHH               HHHHH             \n",
            "  HHHHHHHHHHHHHHHHHHHHHHHHH   \n",
            "  HHHHHHHHHHHHHHHHHHHHHHHHH   \n",
            "  HHHHHHHHHHHHHHHHHHHHHHHHH   \n",
            "  HHHHH               HHHHH             \n",
            "  HHHHH               HHHHH             \n",
            "  HHHHH               HHHHH             \n",
            "  HHHHH               HHHHH             \n",
            "  HHHHH               HHHHH             \n",
            "  HHHHH               HHHHH             \n",
            "                    HHHHHHHHH \n",
            "                     HHHHHHH  \n",
            "                      HHHHH   \n",
            "                       HHH    \n",
            "                        H     \n"
          ],
          "name": "stdout"
        }
      ]
    },
    {
      "cell_type": "markdown",
      "metadata": {
        "id": "QHQWUdu7bt-i",
        "colab_type": "text"
      },
      "source": [
        "### **Text Wrap** \n",
        "\n",
        "Textwrap is a module in python. The function wrap() and fill() are used in this exercise. textwrap(string,widht) converts a paragraph into a string(text) and wraps it such that each line is width characters long. It returns a list. Example:\n",
        "\n",
        "```\n",
        ">>> import textwrap\n",
        ">>> string = \"This is a very very very very very long string.\"\n",
        ">>> print textwrap.wrap(string,8)\n",
        "['This is', 'a very', 'very', 'very', 'very', 'very', 'long', 'string.']\n",
        "```\n",
        "Similarly, we have textwrap.fill(string,width).\n",
        "\n",
        "\n",
        "\n",
        "```\n",
        ">>> import textwrap\n",
        ">>> string = \"This is a very very very very very long string.\"\n",
        ">>> print textwrap.fill(string,8)\n",
        "This is\n",
        "a very\n",
        "very\n",
        "very\n",
        "very\n",
        "very\n",
        "long\n",
        "string.\n",
        "```\n",
        "\n",
        "\n",
        "\n",
        "\n"
      ]
    },
    {
      "cell_type": "code",
      "metadata": {
        "id": "U1J3kjvUcVFf",
        "colab_type": "code",
        "outputId": "06baf379-56ea-4170-9de9-f6e4e863260b",
        "colab": {
          "base_uri": "https://localhost:8080/",
          "height": 187
        }
      },
      "source": [
        "import textwrap\n",
        "\n",
        "def wrap(string, max_width):\n",
        "    return textwrap.fill(string,max_width)\n",
        "\n",
        "if __name__ == '__main__':\n",
        "    string, max_width = input(), int(input())\n",
        "    result = wrap(string, max_width)\n",
        "    print(result)\n",
        "    print(textwrap.wrap(string,max_width))"
      ],
      "execution_count": 0,
      "outputs": [
        {
          "output_type": "stream",
          "text": [
            "ABCDEFGHIJKLIMNOQRSTUVWXYZ\n",
            "4\n",
            "ABCD\n",
            "EFGH\n",
            "IJKL\n",
            "IMNO\n",
            "QRST\n",
            "UVWX\n",
            "YZ\n",
            "['ABCD', 'EFGH', 'IJKL', 'IMNO', 'QRST', 'UVWX', 'YZ']\n"
          ],
          "name": "stdout"
        }
      ]
    },
    {
      "cell_type": "markdown",
      "metadata": {
        "id": "YkvOX8WcCmCg",
        "colab_type": "text"
      },
      "source": [
        "### **Alphabet Rangoli**\n",
        "\n",
        "Input: 5\n",
        "Output:\n",
        "\n",
        "\n",
        "\n",
        "```\n",
        "--------e--------\n",
        "------e-d-e------\n",
        "----e-d-c-d-e----\n",
        "--e-d-c-b-c-d-e--\n",
        "e-d-c-b-a-b-c-d-e\n",
        "--e-d-c-b-c-d-e--\n",
        "----e-d-c-d-e----\n",
        "------e-d-e------\n",
        "--------e--------\n",
        "\n",
        "```\n",
        "Input: 10\n",
        "\n",
        "Output:\n",
        "\n",
        "\n",
        "```\n",
        "------------------j------------------\n",
        "----------------j-i-j----------------\n",
        "--------------j-i-h-i-j--------------\n",
        "------------j-i-h-g-h-i-j------------\n",
        "----------j-i-h-g-f-g-h-i-j----------\n",
        "--------j-i-h-g-f-e-f-g-h-i-j--------\n",
        "------j-i-h-g-f-e-d-e-f-g-h-i-j------\n",
        "----j-i-h-g-f-e-d-c-d-e-f-g-h-i-j----\n",
        "--j-i-h-g-f-e-d-c-b-c-d-e-f-g-h-i-j--\n",
        "j-i-h-g-f-e-d-c-b-a-b-c-d-e-f-g-h-i-j\n",
        "--j-i-h-g-f-e-d-c-b-c-d-e-f-g-h-i-j--\n",
        "----j-i-h-g-f-e-d-c-d-e-f-g-h-i-j----\n",
        "------j-i-h-g-f-e-d-e-f-g-h-i-j------\n",
        "--------j-i-h-g-f-e-f-g-h-i-j--------\n",
        "----------j-i-h-g-f-g-h-i-j----------\n",
        "------------j-i-h-g-h-i-j------------\n",
        "--------------j-i-h-i-j--------------\n",
        "----------------j-i-j----------------\n",
        "------------------j------------------\n",
        "```\n",
        "\n",
        "\n"
      ]
    },
    {
      "cell_type": "code",
      "metadata": {
        "id": "pN7eSuFlCopR",
        "colab_type": "code",
        "outputId": "5e19c984-a91e-4ad1-866f-63e41717cf21",
        "colab": {
          "base_uri": "https://localhost:8080/",
          "height": 425
        }
      },
      "source": [
        "# Brute Force Technique (I know it's not a good solution. It can be optimized).\n",
        "\n",
        "def print_rangoli(size):\n",
        "    alphabet=\"abcdefghijklmnopqrstuvwxyz\"\n",
        "    max_letters=size+(size-1)\n",
        "    max_width=2*max_letters-1\n",
        "    \n",
        "    for j in range(size):\n",
        "        s=alphabet[size-j-1:size][::-1]\n",
        "        s_reverse=s[::-1]\n",
        "        string=s+s_reverse[1:]\n",
        "        string=\"-\".join(string)\n",
        "        print(string.center(max_width,\"-\"))\n",
        "    j=size-2\n",
        "    while(j>=0):\n",
        "        s=alphabet[size-j-1:size][::-1]\n",
        "        s_reverse=s[::-1]\n",
        "        string=s+s_reverse[1:]\n",
        "        string=\"-\".join(string)\n",
        "        print(string.center(max_width,\"-\"))\n",
        "        j=j-1\n",
        "\n",
        "if __name__ == '__main__':\n",
        "    n = int(input())\n",
        "    print_rangoli(n)"
      ],
      "execution_count": 0,
      "outputs": [
        {
          "output_type": "stream",
          "text": [
            "12\n",
            "----------------------l----------------------\n",
            "--------------------l-k-l--------------------\n",
            "------------------l-k-j-k-l------------------\n",
            "----------------l-k-j-i-j-k-l----------------\n",
            "--------------l-k-j-i-h-i-j-k-l--------------\n",
            "------------l-k-j-i-h-g-h-i-j-k-l------------\n",
            "----------l-k-j-i-h-g-f-g-h-i-j-k-l----------\n",
            "--------l-k-j-i-h-g-f-e-f-g-h-i-j-k-l--------\n",
            "------l-k-j-i-h-g-f-e-d-e-f-g-h-i-j-k-l------\n",
            "----l-k-j-i-h-g-f-e-d-c-d-e-f-g-h-i-j-k-l----\n",
            "--l-k-j-i-h-g-f-e-d-c-b-c-d-e-f-g-h-i-j-k-l--\n",
            "l-k-j-i-h-g-f-e-d-c-b-a-b-c-d-e-f-g-h-i-j-k-l\n",
            "--l-k-j-i-h-g-f-e-d-c-b-c-d-e-f-g-h-i-j-k-l--\n",
            "----l-k-j-i-h-g-f-e-d-c-d-e-f-g-h-i-j-k-l----\n",
            "------l-k-j-i-h-g-f-e-d-e-f-g-h-i-j-k-l------\n",
            "--------l-k-j-i-h-g-f-e-f-g-h-i-j-k-l--------\n",
            "----------l-k-j-i-h-g-f-g-h-i-j-k-l----------\n",
            "------------l-k-j-i-h-g-h-i-j-k-l------------\n",
            "--------------l-k-j-i-h-i-j-k-l--------------\n",
            "----------------l-k-j-i-j-k-l----------------\n",
            "------------------l-k-j-k-l------------------\n",
            "--------------------l-k-l--------------------\n",
            "----------------------l----------------------\n"
          ],
          "name": "stdout"
        }
      ]
    },
    {
      "cell_type": "code",
      "metadata": {
        "id": "2pOohrSnJOiF",
        "colab_type": "code",
        "outputId": "589a88b2-d268-4b54-966f-d6f2ae973984",
        "colab": {
          "base_uri": "https://localhost:8080/",
          "height": 459
        }
      },
      "source": [
        "# This one is more optimized\n",
        "\n",
        "\n",
        "def print_rangoli(size):\n",
        "    alphabet=\"abcdefghijklmnopqrstuvwxyz\"\n",
        "    max_letters=size+(size-1)\n",
        "    max_width=2*max_letters-1\n",
        "    j=0\n",
        "    for i in range(max_letters):\n",
        "        if(i<=max_letters//2):\n",
        "            s=alphabet[size-j-1:size][::-1] + alphabet[size-j-1:size][1:]\n",
        "            print(\"-\".join(s).center(max_width,\"-\"))\n",
        "            j=j+1\n",
        "            continue\n",
        "        if(i==max_letters//2 +1):\n",
        "            j=size-2\n",
        "        s=alphabet[size-j-1:size][::-1] + alphabet[size-j-1:size][1:]\n",
        "        print(\"-\".join(s).center(max_width,\"-\"))\n",
        "        j=j-1\n",
        "\n",
        "if __name__ == '__main__':\n",
        "    n = int(input())\n",
        "    print_rangoli(n)"
      ],
      "execution_count": 0,
      "outputs": [
        {
          "output_type": "stream",
          "text": [
            "13\n",
            "------------------------m------------------------\n",
            "----------------------m-l-m----------------------\n",
            "--------------------m-l-k-l-m--------------------\n",
            "------------------m-l-k-j-k-l-m------------------\n",
            "----------------m-l-k-j-i-j-k-l-m----------------\n",
            "--------------m-l-k-j-i-h-i-j-k-l-m--------------\n",
            "------------m-l-k-j-i-h-g-h-i-j-k-l-m------------\n",
            "----------m-l-k-j-i-h-g-f-g-h-i-j-k-l-m----------\n",
            "--------m-l-k-j-i-h-g-f-e-f-g-h-i-j-k-l-m--------\n",
            "------m-l-k-j-i-h-g-f-e-d-e-f-g-h-i-j-k-l-m------\n",
            "----m-l-k-j-i-h-g-f-e-d-c-d-e-f-g-h-i-j-k-l-m----\n",
            "--m-l-k-j-i-h-g-f-e-d-c-b-c-d-e-f-g-h-i-j-k-l-m--\n",
            "m-l-k-j-i-h-g-f-e-d-c-b-a-b-c-d-e-f-g-h-i-j-k-l-m\n",
            "--m-l-k-j-i-h-g-f-e-d-c-b-c-d-e-f-g-h-i-j-k-l-m--\n",
            "----m-l-k-j-i-h-g-f-e-d-c-d-e-f-g-h-i-j-k-l-m----\n",
            "------m-l-k-j-i-h-g-f-e-d-e-f-g-h-i-j-k-l-m------\n",
            "--------m-l-k-j-i-h-g-f-e-f-g-h-i-j-k-l-m--------\n",
            "----------m-l-k-j-i-h-g-f-g-h-i-j-k-l-m----------\n",
            "------------m-l-k-j-i-h-g-h-i-j-k-l-m------------\n",
            "--------------m-l-k-j-i-h-i-j-k-l-m--------------\n",
            "----------------m-l-k-j-i-j-k-l-m----------------\n",
            "------------------m-l-k-j-k-l-m------------------\n",
            "--------------------m-l-k-l-m--------------------\n",
            "----------------------m-l-m----------------------\n",
            "------------------------m------------------------\n"
          ],
          "name": "stdout"
        }
      ]
    },
    {
      "cell_type": "markdown",
      "metadata": {
        "id": "x7qzuaiqJbcl",
        "colab_type": "text"
      },
      "source": [
        "Complexity is O(n)\n",
        "\n",
        "---\n",
        "\n"
      ]
    },
    {
      "cell_type": "markdown",
      "metadata": {
        "id": "M6Ck7oRXNaQ5",
        "colab_type": "text"
      },
      "source": [
        "### **Capitalize** \n",
        "\n",
        "Capitalize first letter of each word."
      ]
    },
    {
      "cell_type": "code",
      "metadata": {
        "id": "7kj8WFvsNNiz",
        "colab_type": "code",
        "outputId": "1475a222-138b-4dad-ecbd-4bacebb55c65",
        "colab": {
          "base_uri": "https://localhost:8080/",
          "height": 51
        }
      },
      "source": [
        "#!/bin/python3\n",
        "\n",
        "# Complete the solve function below.\n",
        "def solve(s):\n",
        "    name=s.split(\" \")\n",
        "    result= \" \".join(word.capitalize() for word in name)\n",
        "    return result\n",
        "if __name__ == '__main__':\n",
        "    s = input()\n",
        "    result = solve(s)\n",
        "    print(result)\n"
      ],
      "execution_count": 0,
      "outputs": [
        {
          "output_type": "stream",
          "text": [
            "mark henry rich\n",
            "Mark Henry Rich\n"
          ],
          "name": "stdout"
        }
      ]
    }
  ]
}