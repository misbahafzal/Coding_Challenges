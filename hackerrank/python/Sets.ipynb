{
  "nbformat": 4,
  "nbformat_minor": 0,
  "metadata": {
    "colab": {
      "name": "Sets.ipynb",
      "provenance": []
    },
    "kernelspec": {
      "name": "python3",
      "display_name": "Python 3"
    }
  },
  "cells": [
    {
      "cell_type": "markdown",
      "metadata": {
        "id": "UXmGA0btPJfX",
        "colab_type": "text"
      },
      "source": [
        "### **Introduction to Sets**\n",
        "\n",
        "A set is an **unordered collection** of elements **without duplicate entries**.\n",
        "When printed, iterated or converted into a sequence, its **elements will appear in an arbitrary order**.\n",
        "\n"
      ]
    },
    {
      "cell_type": "code",
      "metadata": {
        "id": "dAdHspdXOejk",
        "colab_type": "code",
        "colab": {
          "base_uri": "https://localhost:8080/",
          "height": 68
        },
        "outputId": "4b074684-8e3f-4887-afab-e8effef2b422"
      },
      "source": [
        "#calculate average of distinct heights of all plants. Heights are given.\n",
        "\n",
        "def average(array):\n",
        "    array=set(array)\n",
        "    return sum(array)/len(array)\n",
        "\n",
        "if __name__ == '__main__':\n",
        "    n = int(input())\n",
        "    arr = list(map(int, input().split()))\n",
        "    result = average(arr)\n",
        "    print(result)"
      ],
      "execution_count": 1,
      "outputs": [
        {
          "output_type": "stream",
          "text": [
            "10\n",
            "161 182 161 154 176 170 167 171 170 174\n",
            "169.375\n"
          ],
          "name": "stdout"
        }
      ]
    },
    {
      "cell_type": "markdown",
      "metadata": {
        "id": "q1ZiTlXSSo-2",
        "colab_type": "text"
      },
      "source": [
        "### **Symmetric Difference**\n",
        "\n",
        "Find out symmetric difference from two sets a and b. Symmetric difference means the elements that exist either in a or b but not in both. Prit them inascending order.\n"
      ]
    },
    {
      "cell_type": "code",
      "metadata": {
        "id": "fGMVMAH_S5n6",
        "colab_type": "code",
        "colab": {
          "base_uri": "https://localhost:8080/",
          "height": 153
        },
        "outputId": "ae32657d-3741-48df-9f94-b62977ee2520"
      },
      "source": [
        "if __name__ == \"__main__\":\n",
        "    m=int(input())\n",
        "    a=set(map(int,input().split()))\n",
        "    n=int(input())\n",
        "    b=set(map(int,input().split()))\n",
        "    print(*sorted(a.symmetric_difference(b)),sep=\"\\n\")\n"
      ],
      "execution_count": 2,
      "outputs": [
        {
          "output_type": "stream",
          "text": [
            "4\n",
            "2 4 5 9\n",
            "4\n",
            "2 4 11 12\n",
            "5\n",
            "9\n",
            "11\n",
            "12\n"
          ],
          "name": "stdout"
        }
      ]
    },
    {
      "cell_type": "markdown",
      "metadata": {
        "id": "UcPcymsSTEpw",
        "colab_type": "text"
      },
      "source": [
        "Complexity is O(1). (Neglecting sorting complexity) Otherwise complexity is O(nlogn)\n",
        "\n",
        "---\n",
        "\n"
      ]
    },
    {
      "cell_type": "markdown",
      "metadata": {
        "id": "LOdI4sMrboQl",
        "colab_type": "text"
      },
      "source": [
        "### **No Idea!**\n",
        "\n",
        "Given an array and two sets A and B. You have your happiness, if an element of array exists in set A, your happiness increases by 1 and if that element exists in set B, your happiness decreases by 1."
      ]
    },
    {
      "cell_type": "code",
      "metadata": {
        "id": "FiHpMEMDb4ia",
        "colab_type": "code",
        "colab": {
          "base_uri": "https://localhost:8080/",
          "height": 102
        },
        "outputId": "68f2b032-7a54-4ce3-a29b-f10c138c7768"
      },
      "source": [
        "if __name__== \"__main__\":\n",
        "    happiness=0\n",
        "    n,m=map(int,input().split())\n",
        "    array=list(map(int,input().split()))\n",
        "    A=set(map(int,input().split()))\n",
        "    B=set(map(int,input().split()))\n",
        "    for i in array:\n",
        "        if(i in A):\n",
        "            happiness+=1\n",
        "        elif(i in B):\n",
        "            happiness-=1\n",
        "    print(happiness)\n"
      ],
      "execution_count": 3,
      "outputs": [
        {
          "output_type": "stream",
          "text": [
            "3 2\n",
            "1 5 3\n",
            "3 1\n",
            "5 7\n",
            "1\n"
          ],
          "name": "stdout"
        }
      ]
    },
    {
      "cell_type": "markdown",
      "metadata": {
        "id": "Enmk5S8AcFDF",
        "colab_type": "text"
      },
      "source": [
        "Complexity is O(n) i.e. number of elements present in an array.\n",
        "\n",
        "---\n",
        "\n"
      ]
    },
    {
      "cell_type": "markdown",
      "metadata": {
        "id": "IkrWmV53cOYI",
        "colab_type": "text"
      },
      "source": [
        "Here, I earned a **Gold Badge** in **Python**."
      ]
    },
    {
      "cell_type": "markdown",
      "metadata": {
        "id": "I1VSN4_lc2Wj",
        "colab_type": "text"
      },
      "source": [
        "### **Set.add()**\n",
        "\n",
        "Apply your knowledge of the .add() operation to help your friend Rupal.\n",
        "\n",
        "Rupal has a huge collection of country stamps. She decided to count the total number of distinct country stamps in her collection. She asked for your help. You pick the stamps one by one from a stack of  country stamps.\n",
        "\n",
        "Find the total number of distinct country stamps."
      ]
    },
    {
      "cell_type": "code",
      "metadata": {
        "id": "noG2moPlc8e-",
        "colab_type": "code",
        "colab": {
          "base_uri": "https://localhost:8080/",
          "height": 170
        },
        "outputId": "7ec51d1b-90eb-4a97-8906-79c5498b48d4"
      },
      "source": [
        "if __name__ == \"__main__\":\n",
        "    A=set()\n",
        "    for _ in range(int(input())):\n",
        "        A.add(input())\n",
        "    print(len(A))\n",
        "\n"
      ],
      "execution_count": 4,
      "outputs": [
        {
          "output_type": "stream",
          "text": [
            "7\n",
            "UK\n",
            "USA\n",
            "UAE\n",
            "UK\n",
            "New Zealand\n",
            "Pakistan\n",
            "India\n",
            "6\n"
          ],
          "name": "stdout"
        }
      ]
    },
    {
      "cell_type": "markdown",
      "metadata": {
        "id": "mlqYxJb5e9In",
        "colab_type": "text"
      },
      "source": [
        "### **Set .discard(), .remove() & .pop()**\n",
        "\n",
        "Usage of above three function. After all operations, print sum of set elements."
      ]
    },
    {
      "cell_type": "code",
      "metadata": {
        "id": "XT9S2yEifGV-",
        "colab_type": "code",
        "colab": {
          "base_uri": "https://localhost:8080/",
          "height": 255
        },
        "outputId": "c7f67c82-d2ee-49f1-c693-69386c8d5d24"
      },
      "source": [
        "if __name__ == \"__main__\":\n",
        "    n = int(input())\n",
        "    s = set(map(int, input().split()))\n",
        "    for _ in range(int(input())):\n",
        "        string=input().split(\" \")\n",
        "        if(len(string)==1):\n",
        "                s.pop()\n",
        "        else:\n",
        "            if(string[0]==\"remove\"):\n",
        "                s.remove(int(string[1]))\n",
        "            else:\n",
        "                s.discard(int(string[1]))\n",
        "    print(sum(s))\n"
      ],
      "execution_count": 5,
      "outputs": [
        {
          "output_type": "stream",
          "text": [
            "9\n",
            "1 2 3 4 5 6 7 8 9\n",
            "10\n",
            "pop\n",
            "remove 9\n",
            "discard 9\n",
            "discard 8\n",
            "remove 7\n",
            "pop\n",
            "discard 6\n",
            "emove 5\n",
            "pop\n",
            "discard 5\n",
            "4\n"
          ],
          "name": "stdout"
        }
      ]
    },
    {
      "cell_type": "markdown",
      "metadata": {
        "id": "ixfHrDthfmMg",
        "colab_type": "text"
      },
      "source": [
        "The difference between discard() and remove() is that: If an element doesn not exist in an array. remove() raises a KeyError and discard() doesn not raise any error."
      ]
    },
    {
      "cell_type": "markdown",
      "metadata": {
        "id": "4pTcFP9xfwkV",
        "colab_type": "text"
      },
      "source": [
        "Complexirty is O(n)\n",
        "\n",
        "---\n",
        "\n",
        "\n",
        "\n"
      ]
    },
    {
      "cell_type": "markdown",
      "metadata": {
        "id": "RmoJTLC0RuZl",
        "colab_type": "text"
      },
      "source": [
        "### **Set .union() Operation**\n",
        "\n",
        "Perform union and intersection operations on sets."
      ]
    },
    {
      "cell_type": "code",
      "metadata": {
        "id": "UYaB-wDVRzA9",
        "colab_type": "code",
        "colab": {
          "base_uri": "https://localhost:8080/",
          "height": 102
        },
        "outputId": "08763459-2e6b-4a78-b979-9f6847ad9ec3"
      },
      "source": [
        "n=int(input())\n",
        "l=map(int,input().split())\n",
        "\n",
        "m=int(input())\n",
        "o=map(int,input().split())\n",
        "l=set(l)\n",
        "o=set(o)\n",
        "print(len(l.union(o)))\n"
      ],
      "execution_count": 1,
      "outputs": [
        {
          "output_type": "stream",
          "text": [
            "9\n",
            "1 2 3 4 5 6 7 8 9\n",
            "9\n",
            "10 1 2 3 11 21 55 6 8\n",
            "13\n"
          ],
          "name": "stdout"
        }
      ]
    },
    {
      "cell_type": "markdown",
      "metadata": {
        "id": "NopaRTLjSAbf",
        "colab_type": "text"
      },
      "source": [
        "### **Set .intersection() Operation**\n",
        "\n"
      ]
    },
    {
      "cell_type": "code",
      "metadata": {
        "id": "pJtg0ZLlSLWG",
        "colab_type": "code",
        "colab": {
          "base_uri": "https://localhost:8080/",
          "height": 102
        },
        "outputId": "cc9ac785-8448-4922-cd01-98af92bcdaea"
      },
      "source": [
        "n=int(input())\n",
        "l=map(int,input().split())\n",
        "m=int(input())\n",
        "o=map(int,input().split())\n",
        "A=set(l)\n",
        "B=set(o)\n",
        "print(len(A.intersection(B)))\n"
      ],
      "execution_count": 2,
      "outputs": [
        {
          "output_type": "stream",
          "text": [
            "9\n",
            "1 2 3 4 5 6 7 8 9\n",
            "9\n",
            "10 1 2 3 11 21 55 6 8\n",
            "5\n"
          ],
          "name": "stdout"
        }
      ]
    },
    {
      "cell_type": "markdown",
      "metadata": {
        "id": "lxDvAf1aUVWO",
        "colab_type": "text"
      },
      "source": [
        "### **Set .difference() Operation**"
      ]
    },
    {
      "cell_type": "code",
      "metadata": {
        "id": "EB7WN2o8UXdd",
        "colab_type": "code",
        "colab": {
          "base_uri": "https://localhost:8080/",
          "height": 102
        },
        "outputId": "a33833cc-c04b-48ee-838c-ef89030b1be4"
      },
      "source": [
        "# Enter your code here. Read input from STDIN. Print output to STDOUT\n",
        "n=int(input())\n",
        "l=map(int,input().split())\n",
        "m=int(input())\n",
        "o=map(int,input().split())\n",
        "print(len(set(l).difference(set(o))))\n"
      ],
      "execution_count": 3,
      "outputs": [
        {
          "output_type": "stream",
          "text": [
            "9\n",
            "1 2 3 4 5 6 7 8 9\n",
            "9\n",
            "10 1 2 3 11 21 55 6 8\n",
            "4\n"
          ],
          "name": "stdout"
        }
      ]
    },
    {
      "cell_type": "markdown",
      "metadata": {
        "id": "h3jxiK0DUpPQ",
        "colab_type": "text"
      },
      "source": [
        "### **Set .symmetric_difference() Operation**"
      ]
    },
    {
      "cell_type": "code",
      "metadata": {
        "id": "6wyfox5cUrGy",
        "colab_type": "code",
        "colab": {
          "base_uri": "https://localhost:8080/",
          "height": 102
        },
        "outputId": "34b5f5c5-98c7-4c71-e82f-7527e3179819"
      },
      "source": [
        "n=int(input())\n",
        "l=map(int,input().split())\n",
        "m=int(input())\n",
        "o=map(int,input().split())\n",
        "print(len(set(l).symmetric_difference(set(o))))\n"
      ],
      "execution_count": 4,
      "outputs": [
        {
          "output_type": "stream",
          "text": [
            "9\n",
            "1 2 3 4 5 6 7 8 9\n",
            "9\n",
            "10 1 2 3 11 21 55 6 8\n",
            "8\n"
          ],
          "name": "stdout"
        }
      ]
    },
    {
      "cell_type": "markdown",
      "metadata": {
        "id": "p8Ex5s-sWH5A",
        "colab_type": "text"
      },
      "source": [
        "### **Set Mutations**\n",
        "\n",
        "\n",
        "\n",
        "```\n",
        ".update()  #updates set elements with given values.\n",
        "intersection_update() #updates set with values that are present in intersection of both sets\n",
        "difference_update() #updates set with values that are present in difference of both sets\n",
        "symmetric_difference_update() #updates set with values that are present in symmetric difference of both sets. Symmetric difference means element is either present in set A or B but not in both.\n",
        "```\n",
        "\n",
        "\n"
      ]
    },
    {
      "cell_type": "code",
      "metadata": {
        "id": "RwUClAaVWrUm",
        "colab_type": "code",
        "colab": {
          "base_uri": "https://localhost:8080/",
          "height": 221
        },
        "outputId": "78844dac-7f7a-43d8-afef-af71a835f539"
      },
      "source": [
        "# Enter your code here. Read input from STDIN. Print output to STDOUT\n",
        "\n",
        "n=int(input())\n",
        "A=set(map(int,input().split()))\n",
        "\n",
        "r=input()\n",
        "for i in range(int(r)):\n",
        "    op_name,length=input().split()\n",
        "    B=set(map(int,input().split()))\n",
        "    if op_name==\"intersection_update\":\n",
        "        A.intersection_update(B)\n",
        "    elif op_name==\"update\":\n",
        "        A.update(B)\n",
        "    elif op_name==\"symmetric_difference_update\":\n",
        "        A.symmetric_difference_update(B)\n",
        "    elif op_name==\"difference_update\":\n",
        "        A.difference_update(B)\n",
        "\n",
        "print(sum(A))\n"
      ],
      "execution_count": 5,
      "outputs": [
        {
          "output_type": "stream",
          "text": [
            "16\n",
            "1 2 3 4 5 6 7 8 9 10 11 12 13 14 24 52\n",
            "4\n",
            "intersection_update 10\n",
            "2 3 5 6 8 9 1 4 7 11\n",
            "update 2\n",
            "55 66\n",
            "symmetric_difference_update 5\n",
            "22 7 35 62 58\n",
            "difference_update 7\n",
            "11 22 35 55 58 62 66\n",
            "38\n"
          ],
          "name": "stdout"
        }
      ]
    },
    {
      "cell_type": "markdown",
      "metadata": {
        "id": "0EK1dJT-Yepy",
        "colab_type": "text"
      },
      "source": [
        "### **The Captain's Room**\n",
        "\n",
        "A group of tourists and their room numbers is given. Find captain's room number.\n",
        "\n"
      ]
    },
    {
      "cell_type": "code",
      "metadata": {
        "id": "jbafYLJkY2c-",
        "colab_type": "code",
        "colab": {
          "base_uri": "https://localhost:8080/",
          "height": 68
        },
        "outputId": "44dbffe3-5a93-43d5-8c70-7276e6119109"
      },
      "source": [
        "# Enter your code here. Read input from STDIN. Print output to STDOUT\n",
        "from collections import Counter\n",
        "n=int(input())\n",
        "l=list(map(int,input().split()))\n",
        "c=dict(Counter(l))\n",
        "print(*[k for k,v in c.items() if(v==1)])\n"
      ],
      "execution_count": 6,
      "outputs": [
        {
          "output_type": "stream",
          "text": [
            "10\n",
            "1 1 2 2 3 3 4 4 5 6 6\n",
            "5\n"
          ],
          "name": "stdout"
        }
      ]
    },
    {
      "cell_type": "markdown",
      "metadata": {
        "id": "Cb_imsB2db07",
        "colab_type": "text"
      },
      "source": [
        "### **Check Subset**\n",
        "\n",
        "Check if set A is subset of set B.\n"
      ]
    },
    {
      "cell_type": "code",
      "metadata": {
        "id": "kO2IXVHzdjk5",
        "colab_type": "code",
        "colab": {
          "base_uri": "https://localhost:8080/",
          "height": 289
        },
        "outputId": "539faa5f-2c48-44f6-d430-0a412d344f4c"
      },
      "source": [
        "# Enter your code here. Read input from STDIN. Print output to STDOUT\n",
        "\n",
        "n=int(input())\n",
        "for i in range(n):\n",
        "    la=int(input())\n",
        "    lv=set(map(int,input().split()))\n",
        "    lb=int(input())\n",
        "    lbv=set(map(int,input().split()))\n",
        "    print(lv.issubset(lbv))\n",
        "  "
      ],
      "execution_count": 8,
      "outputs": [
        {
          "output_type": "stream",
          "text": [
            "3\n",
            "5\n",
            "1 2 3 5 6\n",
            "9\n",
            "9 8 5 6 3 2 1 4 7\n",
            "True\n",
            "1\n",
            "2\n",
            "5\n",
            "3 6 5 4 1\n",
            "False\n",
            "7\n",
            "1 2 3 5 6 8 9\n",
            "3\n",
            "9 8 2\n",
            "False\n"
          ],
          "name": "stdout"
        }
      ]
    },
    {
      "cell_type": "markdown",
      "metadata": {
        "id": "gjz5sJW0eKCu",
        "colab_type": "text"
      },
      "source": [
        "### **Check Strict Superset**\n",
        "\n",
        "A strict superset has at least one element that does not exist in its subset.\n",
        "Print True, if A is a strict superset of each of the N sets. Otherwise, print False."
      ]
    },
    {
      "cell_type": "code",
      "metadata": {
        "id": "wDzPeYK3ei_8",
        "colab_type": "code",
        "colab": {
          "base_uri": "https://localhost:8080/",
          "height": 102
        },
        "outputId": "5d6f03e6-449e-47c8-a7de-d18ad2aff4d3"
      },
      "source": [
        "# Enter your code here. Read input from STDIN. Print output to STDOUT\n",
        "a = set(input().split())\n",
        "print(all(a> set(input().split()) for _ in range(int(input()))))\n",
        "    \n"
      ],
      "execution_count": 9,
      "outputs": [
        {
          "output_type": "stream",
          "text": [
            "1 2 3 4 5 6 7 8 9 10 11 12 23 45 84 78\n",
            "2\n",
            "1 2 3 4 5\n",
            "100 11 12\n",
            "False\n"
          ],
          "name": "stdout"
        }
      ]
    }
  ]
}