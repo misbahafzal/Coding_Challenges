{
  "nbformat": 4,
  "nbformat_minor": 0,
  "metadata": {
    "colab": {
      "name": "Basic_Data_Types.ipynb",
      "provenance": [],
      "toc_visible": true
    },
    "kernelspec": {
      "name": "python3",
      "display_name": "Python 3"
    }
  },
  "cells": [
    {
      "cell_type": "markdown",
      "metadata": {
        "id": "QR08zVh1GUls",
        "colab_type": "text"
      },
      "source": [
        "### **List Comprehensions** \n",
        "\n",
        "Sample Input:\n",
        "1\n",
        "1\n",
        "1\n",
        "2\n",
        "Sample Output:\n",
        "[[0, 0, 0], [0, 0, 1], [0, 1, 0], [1, 0, 0], [1, 1, 1]]\n",
        "\n",
        " List comprehensions are an elegant way to build a list without having to use different for loops to append values one by one. This example might help.\n",
        "\n",
        "Example: You are given two integers x and y . You need to find out the ordered pairs ( i , j ) , such that ( i + j ) is not equal to n and print them in lexicographic order.( 0 <= i <= x ) and ( 0 <= j <= y) "
      ]
    },
    {
      "cell_type": "code",
      "metadata": {
        "id": "OFNYRvWTGTMI",
        "colab_type": "code",
        "outputId": "93154b30-6c83-4220-f5ba-559830a3721d",
        "colab": {
          "base_uri": "https://localhost:8080/",
          "height": 104
        }
      },
      "source": [
        "if __name__ == '__main__':\n",
        "    x = int(input())\n",
        "    y = int(input())\n",
        "    z = int(input())\n",
        "    n = int(input())\n",
        "    print([[i,j,k] for i in range(x+1) \n",
        "                    for j in range(y+1) \n",
        "                        for k in range(z+1) \n",
        "                            if(i+j+k!=n)])\n",
        "    \n",
        "    "
      ],
      "execution_count": 0,
      "outputs": [
        {
          "output_type": "stream",
          "text": [
            "1\n",
            "1\n",
            "1\n",
            "2\n",
            "[[0, 0, 0], [0, 0, 1], [0, 1, 0], [1, 0, 0], [1, 1, 1]]\n"
          ],
          "name": "stdout"
        }
      ]
    },
    {
      "cell_type": "markdown",
      "metadata": {
        "id": "SbZvYUfLG7CV",
        "colab_type": "text"
      },
      "source": [
        "Complexity of this code is O(n^3) Cubic complexity.\n",
        "\n",
        "---\n",
        "\n"
      ]
    },
    {
      "cell_type": "markdown",
      "metadata": {
        "id": "4ouT2bKkINtb",
        "colab_type": "text"
      },
      "source": [
        "### **Find the Runner up score!**\n",
        "return second largest interger from an array."
      ]
    },
    {
      "cell_type": "code",
      "metadata": {
        "id": "LwFAcUp_IW5X",
        "colab_type": "code",
        "outputId": "74475fc2-f19e-4b43-a9e5-cab946b5009a",
        "colab": {
          "base_uri": "https://localhost:8080/",
          "height": 69
        }
      },
      "source": [
        "if __name__ == '__main__':\n",
        "    n = int(input())\n",
        "    arr = list(map(int, input().split()))\n",
        "    arr.sort()\n",
        "    i=len(arr)-1\n",
        "    while(arr[i]==max(arr)):\n",
        "        i=i-1\n",
        "    print(arr[i])"
      ],
      "execution_count": 0,
      "outputs": [
        {
          "output_type": "stream",
          "text": [
            "5\n",
            "2 3 6 6 5\n",
            "5\n"
          ],
          "name": "stdout"
        }
      ]
    },
    {
      "cell_type": "markdown",
      "metadata": {
        "id": "6MQUrf7WIiEW",
        "colab_type": "text"
      },
      "source": [
        "Complexity of above code is O(n)\n",
        "\n",
        "A more efficient way to do it is:\n",
        "\n",
        "\n",
        "\n",
        "\n",
        "\n"
      ]
    },
    {
      "cell_type": "code",
      "metadata": {
        "id": "2DzfPR2BImQ2",
        "colab_type": "code",
        "outputId": "1bfa1622-6582-4cc8-d256-fad8b3c65c88",
        "colab": {
          "base_uri": "https://localhost:8080/",
          "height": 69
        }
      },
      "source": [
        "if __name__ == '__main__':\n",
        "    n = int(input())\n",
        "    arr = list(map(int, input().split()))\n",
        "    print(sorted(set(arr))[-2])"
      ],
      "execution_count": 0,
      "outputs": [
        {
          "output_type": "stream",
          "text": [
            "5\n",
            "2 3 5 6 6\n",
            "5\n"
          ],
          "name": "stdout"
        }
      ]
    },
    {
      "cell_type": "markdown",
      "metadata": {
        "id": "K3_Jz_lGSl-H",
        "colab_type": "text"
      },
      "source": [
        "If we neglect the complexity for sorting algorithm, the complexity of above code becomes O(1).\n",
        "\n",
        "---\n",
        "\n"
      ]
    },
    {
      "cell_type": "markdown",
      "metadata": {
        "id": "Bo-cCYk0LpLo",
        "colab_type": "text"
      },
      "source": [
        "### **Nested Lists** \n",
        "\n",
        "Given the names of students and their marks in Physics, return second lowest marks. If there are more than one student with second lowest marks, order them alphabetically. \n",
        "\n",
        "Sample Input:\n",
        "Harry\n",
        "37.21\n",
        "Berry\n",
        "37.21\n",
        "Tina\n",
        "37.2\n",
        "Akriti\n",
        "41\n",
        "Harsh\n",
        "39\n",
        "\n",
        "Sample Output:\n",
        "Berry\n",
        "Harry"
      ]
    },
    {
      "cell_type": "code",
      "metadata": {
        "id": "X-cTGw1RMDwe",
        "colab_type": "code",
        "outputId": "f66e36c6-e5ff-417f-e0c2-101cc199a749",
        "colab": {
          "base_uri": "https://localhost:8080/",
          "height": 242
        }
      },
      "source": [
        "if __name__ == '__main__':\n",
        "    l=[]\n",
        "    for _ in range(int(input())):\n",
        "        name = input()\n",
        "        score = float(input())\n",
        "        l.append([name,score])\n",
        "    l.sort(key= lambda x:x[1])\n",
        "    minn=l[0][1]\n",
        "    j=0\n",
        "    score=0\n",
        "    while(l[j][1]==minn):\n",
        "        j=j+1\n",
        "    else:\n",
        "        score=l[j][1]\n",
        "    print(*sorted([i[0] for i in l if(i[1]==score)]),sep=\"\\n\")"
      ],
      "execution_count": 0,
      "outputs": [
        {
          "output_type": "stream",
          "text": [
            "5\n",
            "Harry\n",
            "37.12\n",
            "Berry\n",
            "37.12\n",
            "Tina\n",
            "37\n",
            "Akiriti\n",
            "41\n",
            "Harsh\n",
            "80\n",
            "Berry\n",
            "Harry\n"
          ],
          "name": "stdout"
        }
      ]
    },
    {
      "cell_type": "markdown",
      "metadata": {
        "id": "Wen6zOQLNpTm",
        "colab_type": "text"
      },
      "source": [
        "Complexity of above code is O(n)\n",
        "\n",
        "---\n",
        "\n"
      ]
    },
    {
      "cell_type": "markdown",
      "metadata": {
        "id": "G35gP3y-NErY",
        "colab_type": "text"
      },
      "source": [
        "### **Finding the percentage** \n",
        "This is related to dict data type. Given the names of students and their percentages in individual subjects. Calculate average percentage of student whose name is given as input. Example: \n",
        "\n",
        "3 (number of records to be added in dict)\n",
        "Krishna 67 68 69 (save in dict, name is key here, and store marks in a list)\n",
        "Arjun 70 98 63\n",
        "Malika 52 56 60\n",
        "Malika (queried name)\n"
      ]
    },
    {
      "cell_type": "code",
      "metadata": {
        "id": "9snUQX47NE4X",
        "colab_type": "code",
        "outputId": "f4f6bb9b-759e-4383-ef73-3674d8ec5a4f",
        "colab": {
          "base_uri": "https://localhost:8080/",
          "height": 121
        }
      },
      "source": [
        "import functools\n",
        "if __name__ == '__main__':\n",
        "    n = int(input())\n",
        "    student_marks = {}\n",
        "    for _ in range(n):\n",
        "        name, *line = input().split()\n",
        "        scores = list(map(float, line))\n",
        "        student_marks[name] = scores\n",
        "    query_name = input()\n",
        "    nam=student_marks[query_name]\n",
        "    print(\"%.2f\"%(functools.reduce(lambda x,y:x+y,nam)/len(nam)))"
      ],
      "execution_count": 0,
      "outputs": [
        {
          "output_type": "stream",
          "text": [
            "3\n",
            "Krishna 67 68 69\n",
            "Arjun 70 98 63\n",
            "Malika 52 56 60\n",
            "Malika\n",
            "56.00\n"
          ],
          "name": "stdout"
        }
      ]
    },
    {
      "cell_type": "markdown",
      "metadata": {
        "id": "XI2vdRvSOLic",
        "colab_type": "text"
      },
      "source": [
        "Complexity of above code is O(n)\n",
        "\n",
        "---\n",
        "\n"
      ]
    },
    {
      "cell_type": "markdown",
      "metadata": {
        "id": "lXh5Ccm2OcO0",
        "colab_type": "text"
      },
      "source": [
        "### **Here, I got my 3rd star. Yayy!**"
      ]
    }
  ]
}