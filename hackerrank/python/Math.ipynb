{
  "nbformat": 4,
  "nbformat_minor": 0,
  "metadata": {
    "colab": {
      "name": "Math.ipynb",
      "provenance": []
    },
    "kernelspec": {
      "name": "python3",
      "display_name": "Python 3"
    }
  },
  "cells": [
    {
      "cell_type": "markdown",
      "metadata": {
        "id": "3wz646oViH7s",
        "colab_type": "text"
      },
      "source": [
        "### **Polar Coordinates**\n",
        "\n",
        "Use phase and abs functions in cmath module.\n",
        "\n",
        "\n"
      ]
    },
    {
      "cell_type": "code",
      "metadata": {
        "id": "hBWonSnzneUu",
        "colab_type": "code",
        "colab": {
          "base_uri": "https://localhost:8080/",
          "height": 68
        },
        "outputId": "f5574e6c-fcd3-4ffc-d8ee-219fc39eed55"
      },
      "source": [
        "# Enter your code here. Read input from STDIN. Print output to STDOUT\n",
        "import cmath\n",
        "if __name__==\"__main__\":\n",
        "    z=complex(input())\n",
        "    print(abs(z),cmath.phase(z),sep=\"\\n\")\n"
      ],
      "execution_count": 1,
      "outputs": [
        {
          "output_type": "stream",
          "text": [
            "1+2j\n",
            "2.23606797749979\n",
            "1.1071487177940904\n"
          ],
          "name": "stdout"
        }
      ]
    },
    {
      "cell_type": "markdown",
      "metadata": {
        "id": "XMeQiQO3id-A",
        "colab_type": "text"
      },
      "source": [
        "### **Find an Angle in Right Angle Triangle**\n",
        "\n",
        "Given two sides, find an angle."
      ]
    },
    {
      "cell_type": "code",
      "metadata": {
        "id": "xqTBP8ehmXZW",
        "colab_type": "code",
        "colab": {
          "base_uri": "https://localhost:8080/",
          "height": 68
        },
        "outputId": "48f180d3-6748-4a0b-b02f-f6465f10c878"
      },
      "source": [
        "import math\n",
        "if __name__ == \"__main__\":\n",
        "    per=int(input())\n",
        "    base=int(input())\n",
        "    print(str(int(round(math.degrees(math.atan2(per, base)))))+'°')\n"
      ],
      "execution_count": 1,
      "outputs": [
        {
          "output_type": "stream",
          "text": [
            "10\n",
            "10\n",
            "45°\n"
          ],
          "name": "stdout"
        }
      ]
    },
    {
      "cell_type": "markdown",
      "metadata": {
        "id": "Y0hXj8WkwNC7",
        "colab_type": "text"
      },
      "source": [
        "### **Triangle Quest 2**\n",
        "\n",
        "*For* Input 5, print pattern like:\n",
        "\n",
        "```\n",
        "1\n",
        "121\n",
        "12321\n",
        "1234321\n",
        "123454321\n",
        "```\n",
        "\n"
      ]
    },
    {
      "cell_type": "code",
      "metadata": {
        "id": "H7YpdsDCwTFu",
        "colab_type": "code",
        "colab": {
          "base_uri": "https://localhost:8080/",
          "height": 119
        },
        "outputId": "2f2a5325-2607-4686-d40f-9249bd7c7985"
      },
      "source": [
        "#cannot use strings.\n",
        "for i in range(1,int(input())+1): #More than 2 lines will result in 0 score. Do not leave a blank line also\n",
        "    print(int(((10**i-1)/9)**2))\n"
      ],
      "execution_count": 3,
      "outputs": [
        {
          "output_type": "stream",
          "text": [
            "5\n",
            "1\n",
            "121\n",
            "12321\n",
            "1234321\n",
            "123454321\n"
          ],
          "name": "stdout"
        }
      ]
    },
    {
      "cell_type": "markdown",
      "metadata": {
        "id": "R7bG0Espxkbv",
        "colab_type": "text"
      },
      "source": [
        "### **Mod Divmod**\n",
        "divmod is a function in python which return a tuple. The first element if a tuple contains integer division of two number and second element container remainder of those numbers.\n",
        "\n",
        "Remember: In python2, for using \"//\" as integer division, use \"from __future__ import division\"\n",
        "In python3, \"/\" is non-integer division and \"//\" is integer division.\n"
      ]
    },
    {
      "cell_type": "code",
      "metadata": {
        "id": "V1PatqlXxmVB",
        "colab_type": "code",
        "colab": {
          "base_uri": "https://localhost:8080/",
          "height": 102
        },
        "outputId": "677c726f-01bb-4f73-fcad-80c31a334fc0"
      },
      "source": [
        "if __name__== \"__main__\":\n",
        "    num1=int(input())\n",
        "    num2=int(input())\n",
        "    print(num1//num2)\n",
        "    print(num1%num2)\n",
        "    print(divmod(num1,num2))\n"
      ],
      "execution_count": 4,
      "outputs": [
        {
          "output_type": "stream",
          "text": [
            "177\n",
            "10\n",
            "17\n",
            "7\n",
            "(17, 7)\n"
          ],
          "name": "stdout"
        }
      ]
    },
    {
      "cell_type": "markdown",
      "metadata": {
        "id": "g5L_mzM_y5OF",
        "colab_type": "text"
      },
      "source": [
        "### **Power - Mod Power**\n",
        "\n",
        "pow is simple python function that calculates a to the power b.\n",
        "but we can also use this function to calculate a to the power b, and then mod m.\n",
        "However, math module of python has pow function, but we don't want to use it here.\n",
        "\n",
        "\n"
      ]
    },
    {
      "cell_type": "code",
      "metadata": {
        "id": "T6Uph3A1zUJe",
        "colab_type": "code",
        "colab": {
          "base_uri": "https://localhost:8080/",
          "height": 102
        },
        "outputId": "c1807c03-adbf-4b0a-c755-4f26c842f296"
      },
      "source": [
        "a=int(input())\n",
        "b=int(input())\n",
        "m=int(input())\n",
        "print(pow(a,b)) #calculates a to the power b.\n",
        "print(pow(a,b,m)) #calculates a to the power b mod m."
      ],
      "execution_count": 5,
      "outputs": [
        {
          "output_type": "stream",
          "text": [
            "3\n",
            "4\n",
            "5\n",
            "81\n",
            "1\n"
          ],
          "name": "stdout"
        }
      ]
    },
    {
      "cell_type": "markdown",
      "metadata": {
        "id": "y19flJRU0FKN",
        "colab_type": "text"
      },
      "source": [
        "### **Integers Come In All Sizes**\n",
        "Calculate a to the power b plus c to the power d.\n",
        "Python has no limitation for saving an integer in a memory location. It can be as big as computer's memory.\n"
      ]
    },
    {
      "cell_type": "code",
      "metadata": {
        "id": "AWnVWB7G0RyO",
        "colab_type": "code",
        "colab": {
          "base_uri": "https://localhost:8080/",
          "height": 102
        },
        "outputId": "869b0297-424d-4aea-d2f3-3d33dfe6dd9d"
      },
      "source": [
        "# Enter your code here. Read input from STDIN. Print output to STDOUT\n",
        "a=int(input())\n",
        "b=int(input())\n",
        "c=int(input())\n",
        "d=int(input())\n",
        "print(pow(a,b) + pow(c,d))"
      ],
      "execution_count": 6,
      "outputs": [
        {
          "output_type": "stream",
          "text": [
            "9\n",
            "29\n",
            "7\n",
            "27\n",
            "4710194409608608369201743232\n"
          ],
          "name": "stdout"
        }
      ]
    },
    {
      "cell_type": "markdown",
      "metadata": {
        "id": "w6Dw9nSq0maq",
        "colab_type": "text"
      },
      "source": [
        "### **Triangle Quest**\n",
        "If N is given, Print a pattern like: \n",
        "\n",
        "\n",
        "```\n",
        "1\n",
        "22\n",
        "333\n",
        "4444\n",
        "55555\n",
        "......\n",
        "```\n",
        "**Constraints: **\n",
        "Use no more than two lines. The first line (the for statement) is already written for you. You have to complete the print statement.\n",
        "\n",
        "Note: Using anything related to strings will give a score of 0.\n",
        "\n"
      ]
    },
    {
      "cell_type": "code",
      "metadata": {
        "id": "A8kAfqag0_IB",
        "colab_type": "code",
        "colab": {
          "base_uri": "https://localhost:8080/",
          "height": 102
        },
        "outputId": "a31e6e8e-9d5f-4684-9853-0159590962c5"
      },
      "source": [
        "\"\"\"whats going on? \n",
        "Here, 10**1 will give 10, minus 1 is 9, you divide it with 9. integer division has answer 1, 1(i) multiply by 1 is 1, so it prints 1. So on..\n",
        "\"\"\"\n",
        "for i in range(1,int(input())): #More than 2 lines will result in 0 score. Do not leave a blank line also\n",
        "    print(i*(10**i-1)//9)\n",
        "\n"
      ],
      "execution_count": 9,
      "outputs": [
        {
          "output_type": "stream",
          "text": [
            "5\n",
            "1\n",
            "22\n",
            "333\n",
            "4444\n"
          ],
          "name": "stdout"
        }
      ]
    }
  ]
}