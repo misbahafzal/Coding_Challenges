{
  "nbformat": 4,
  "nbformat_minor": 0,
  "metadata": {
    "colab": {
      "name": "Introduction.ipynb",
      "provenance": []
    },
    "kernelspec": {
      "name": "python3",
      "display_name": "Python 3"
    }
  },
  "cells": [
    {
      "cell_type": "markdown",
      "metadata": {
        "id": "1K7MWjKWuv6y",
        "colab_type": "text"
      },
      "source": [
        "### **Say \"Hello, World!\" With Python**"
      ]
    },
    {
      "cell_type": "code",
      "metadata": {
        "id": "4IT84ilGuTSd",
        "colab_type": "code",
        "colab": {}
      },
      "source": [
        "if __name__ == '__main__':\n",
        "    print \"Hello, World!\"",
        "#complexity is O(1)"
      ],
      "execution_count": 0,
      "outputs": []
    },
    {
      "cell_type": "markdown",
      "metadata": {
        "id": "V3V13y8HvdHe",
        "colab_type": "text"
      },
      "source": [
        "### **Python If-Else** \n",
        "Using modulo operator"
      ]
    },
    {
      "cell_type": "code",
      "metadata": {
        "id": "9oswUHvavbo0",
        "colab_type": "code",
        "colab": {}
      },
      "source": [
        "if __name__ == '__main__':\n",
        "    n = int(input().strip())\n",
        "    if(n%2!=0):\n",
        "        print(\"Weird\")\n",
        "    else:\n",
        "        if(2<=n<=5):\n",
        "            print(\"Not Weird\")\n",
        "        elif(6<=n<=20):\n",
        "            print(\"Weird\")\n",
        "        else:\n",
        "            print(\"Not Weird\")\n"
      ],
      "execution_count": 0,
      "outputs": []
    },
    {
      "cell_type": "markdown",
      "metadata": {
        "id": "Hu-jg5uqvqaS",
        "colab_type": "text"
      },
      "source": [
        "### **Python If-Else** \n",
        "Without using modulo operator"
      ]
    },
    {
      "cell_type": "code",
      "metadata": {
        "id": "QReAlBScvu5I",
        "colab_type": "code",
        "colab": {
          "base_uri": "https://localhost:8080/",
          "height": 52
        },
        "outputId": "5d56fd99-0a06-41a1-afd3-2a924ddd4596"
      },
      "source": [
        "if __name__ == '__main__':\n",
        "    n = int(input().strip())\n",
        "    if((n//2)*2!=n):\n",
        "        print(\"Weird\")\n",
        "    else:\n",
        "        if(2<=n<=5):\n",
        "            print(\"Not Weird\")\n",
        "        elif(6<=n<=20):\n",
        "            print(\"Weird\")\n",
        "        else:\n",
        "            print(\"Not Weird\")"
      ],
      "execution_count": 3,
      "outputs": [
        {
          "output_type": "stream",
          "text": [
            "24\n",
            "Not Weird\n"
          ],
          "name": "stdout"
        }
      ]
    },
    {
      "cell_type": "markdown",
      "metadata": {
        "id": "3ft6nvDdw7j_",
        "colab_type": "text"
      },
      "source": [
        "### **Arithmetic Operators**"
      ]
    },
    {
      "cell_type": "code",
      "metadata": {
        "id": "kON3ewDMxApl",
        "colab_type": "code",
        "colab": {
          "base_uri": "https://localhost:8080/",
          "height": 104
        },
        "outputId": "80466db2-dad5-4391-ec73-160f5f24e47c"
      },
      "source": [
        "if __name__ == '__main__':\n",
        "    a = int(input())\n",
        "    b = int(input())\n",
        "    print(a+b)\n",
        "    print(a-b)\n",
        "    print(a*b)"
      ],
      "execution_count": 4,
      "outputs": [
        {
          "output_type": "stream",
          "text": [
            "8\n",
            "3\n",
            "11\n",
            "5\n",
            "24\n"
          ],
          "name": "stdout"
        }
      ]
    },
    {
      "cell_type": "markdown",
      "metadata": {
        "id": "y944k40cxJsJ",
        "colab_type": "text"
      },
      "source": [
        "### **Division**"
      ]
    },
    {
      "cell_type": "code",
      "metadata": {
        "id": "d7-966ztxMVE",
        "colab_type": "code",
        "colab": {
          "base_uri": "https://localhost:8080/",
          "height": 86
        },
        "outputId": "9d42a9d7-cc15-4c1a-fcfc-5d7a90c6e0b9"
      },
      "source": [
        "if __name__ == '__main__':\n",
        "    a = int(input())\n",
        "    b = int(input())\n",
        "    print(a//b)\n",
        "    print(a/b)"
      ],
      "execution_count": 5,
      "outputs": [
        {
          "output_type": "stream",
          "text": [
            "4\n",
            "8\n",
            "0\n",
            "0.5\n"
          ],
          "name": "stdout"
        }
      ]
    },
    {
      "cell_type": "markdown",
      "metadata": {
        "id": "MlWBa4hvxa9k",
        "colab_type": "text"
      },
      "source": [
        "Here, I got my first star. Yayy!\n",
        "\n"
      ]
    },
    {
      "cell_type": "markdown",
      "metadata": {
        "id": "qNY_R531yeLo",
        "colab_type": "text"
      },
      "source": [
        "### **Loops**"
      ]
    },
    {
      "cell_type": "code",
      "metadata": {
        "id": "wUGktTThygo2",
        "colab_type": "code",
        "colab": {
          "base_uri": "https://localhost:8080/",
          "height": 121
        },
        "outputId": "03818b7a-541a-4c33-eda0-8378d6ef32da"
      },
      "source": [
        "if __name__ == '__main__':\n",
        "    n = int(input())\n",
        "    for i in range(n):\n",
        "        print(i**2)\n"
      ],
      "execution_count": 6,
      "outputs": [
        {
          "output_type": "stream",
          "text": [
            "5\n",
            "0\n",
            "1\n",
            "4\n",
            "9\n",
            "16\n"
          ],
          "name": "stdout"
        }
      ]
    },
    {
      "cell_type": "markdown",
      "metadata": {
        "id": "JmVLDxKCzNpJ",
        "colab_type": "text"
      },
      "source": [
        "### **Write a function to return True if year is a leap year.**"
      ]
    },
    {
      "cell_type": "code",
      "metadata": {
        "id": "8zKcJtCBzJSg",
        "colab_type": "code",
        "colab": {
          "base_uri": "https://localhost:8080/",
          "height": 52
        },
        "outputId": "84c8af12-4b34-41a0-aef2-98c60cc211d6"
      },
      "source": [
        "def is_leap(year):\n",
        "    leap = False\n",
        "    \n",
        "    # Write your logic here\n",
        "    if(year%4==0 and (year%400==0 or year%100!=0)):\n",
        "        leap=True\n",
        "    return leap\n",
        "\n",
        "year = int(input())\n",
        "print(is_leap(year))"
      ],
      "execution_count": 7,
      "outputs": [
        {
          "output_type": "stream",
          "text": [
            "1800\n",
            "False\n"
          ],
          "name": "stdout"
        }
      ]
    },
    {
      "cell_type": "markdown",
      "metadata": {
        "id": "H9pz_FCf0ASP",
        "colab_type": "text"
      },
      "source": [
        "### *Write a function to print string like if 3 is given it prints \"123\"*"
      ]
    },
    {
      "cell_type": "code",
      "metadata": {
        "id": "7rqRbPP90F6T",
        "colab_type": "code",
        "colab": {
          "base_uri": "https://localhost:8080/",
          "height": 52
        },
        "outputId": "4ba36007-c74c-4f86-e356-2597896c5781"
      },
      "source": [
        "if __name__ == '__main__':\n",
        "    n = int(input())\n",
        "    for i in range(1,n+1):\n",
        "        print(i,end=\"\")"
      ],
      "execution_count": 8,
      "outputs": [
        {
          "output_type": "stream",
          "text": [
            "3\n",
            "123"
          ],
          "name": "stdout"
        }
      ]
    },
    {
      "cell_type": "markdown",
      "metadata": {
        "id": "zJqJmSmC0Mb6",
        "colab_type": "text"
      },
      "source": [
        "Here, I got my 2nd star. Yayy!"
      ]
    }
  ]
}
