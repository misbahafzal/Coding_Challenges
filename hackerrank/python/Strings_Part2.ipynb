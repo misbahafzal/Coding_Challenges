{
  "nbformat": 4,
  "nbformat_minor": 0,
  "metadata": {
    "colab": {
      "name": "Strings_Part2.ipynb",
      "provenance": []
    },
    "kernelspec": {
      "name": "python3",
      "display_name": "Python 3"
    }
  },
  "cells": [
    {
      "cell_type": "markdown",
      "metadata": {
        "id": "9m8_t5QZdEy0",
        "colab_type": "text"
      },
      "source": [
        "### **The Minion Game**\n",
        "\n",
        "A string is given. \n",
        "Player 1 has to make all substings present in a string starting with consonants.\n",
        "Player 2 has to make all substings present in a string starting with vowels."
      ]
    },
    {
      "cell_type": "code",
      "metadata": {
        "id": "cBb51KNDc-wn",
        "colab_type": "code",
        "colab": {
          "base_uri": "https://localhost:8080/",
          "height": 51
        },
        "outputId": "c6cdbb16-bff0-423f-c326-6924b4141f3a"
      },
      "source": [
        "def minion_game(string):\n",
        "    vowel=[\"A\",\"E\",\"I\",\"O\",\"U\"]\n",
        "    count1=0\n",
        "    count2=0\n",
        "    l=[]\n",
        "    for i in range(len(string)):\n",
        "        if(string[i] in vowel):\n",
        "            count2+=len(string)-i\n",
        "        else:\n",
        "            count1+=len(string)-i\n",
        "    if(count1>count2):\n",
        "        print(\"Stuart \" + str(count1))\n",
        "    elif(count2>count1):\n",
        "        print(\"Kevin \" + str(count2))\n",
        "    else:\n",
        "        print(\"Draw\")\n",
        "\n",
        "if __name__ == '__main__':\n",
        "    s = input()\n",
        "    minion_game(s)\n"
      ],
      "execution_count": 1,
      "outputs": [
        {
          "output_type": "stream",
          "text": [
            "BANANA\n",
            "Stuart 12\n"
          ],
          "name": "stdout"
        }
      ]
    },
    {
      "cell_type": "markdown",
      "metadata": {
        "id": "8PHuDcyIiT3y",
        "colab_type": "text"
      },
      "source": [
        "### **Merge the Tools!**\n",
        "\n",
        "Split given string into parts with given length. Print only unique characters from separated sub strings.\n",
        "Example: \n",
        "\n",
        "\n",
        "```\n",
        "AABCAAADA\n",
        "3\n",
        "```\n",
        "Output:\n",
        "\n",
        "\n",
        "```\n",
        "AB\n",
        "CA\n",
        "AD\n",
        "```\n",
        "\n",
        "\n",
        "\n",
        "\n"
      ]
    },
    {
      "cell_type": "code",
      "metadata": {
        "id": "e4F2Te_rivmy",
        "colab_type": "code",
        "colab": {
          "base_uri": "https://localhost:8080/",
          "height": 102
        },
        "outputId": "c8e777e8-2cb7-46d6-c8ae-23fe5bae5c99"
      },
      "source": [
        "import textwrap\n",
        "from collections import Counter\n",
        "def merge_the_tools(string, k):\n",
        "    new_string=textwrap.wrap(string,k)\n",
        "    for i in new_string:\n",
        "        print(*[s for s in Counter(i)],sep=\"\")\n",
        "\n",
        "if __name__ == '__main__':\n",
        "    string, k = input(), int(input())\n",
        "    merge_the_tools(string, k)"
      ],
      "execution_count": 2,
      "outputs": [
        {
          "output_type": "stream",
          "text": [
            "AABCAAADA\n",
            "3\n",
            "AB\n",
            "CA\n",
            "AD\n"
          ],
          "name": "stdout"
        }
      ]
    }
  ]
}