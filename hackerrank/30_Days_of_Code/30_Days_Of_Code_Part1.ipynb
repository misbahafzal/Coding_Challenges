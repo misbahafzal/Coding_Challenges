{
  "nbformat": 4,
  "nbformat_minor": 0,
  "metadata": {
    "colab": {
      "name": "30_Days_Of_Code_Part1.ipynb",
      "provenance": [],
      "toc_visible": true
    },
    "kernelspec": {
      "name": "python3",
      "display_name": "Python 3"
    }
  },
  "cells": [
    {
      "cell_type": "markdown",
      "metadata": {
        "id": "i_IbXxl5jvSk",
        "colab_type": "text"
      },
      "source": [
        "**Hello World**"
      ]
    },
    {
      "cell_type": "code",
      "metadata": {
        "id": "uC6z0eSJk_2m",
        "colab_type": "code",
        "outputId": "c946628d-f41b-4cf7-fc14-c09d5604adeb",
        "colab": {
          "base_uri": "https://localhost:8080/",
          "height": 68
        }
      },
      "source": [
        "input_string = input()\n",
        "\n",
        "# Print a string literal saying \"Hello, World.\" to stdout.\n",
        "print('Hello, World.' + '\\n' + input_string)"
      ],
      "execution_count": 0,
      "outputs": [
        {
          "output_type": "stream",
          "text": [
            "Hi \n",
            "Hello, World.\n",
            "Hi \n"
          ],
          "name": "stdout"
        }
      ]
    },
    {
      "cell_type": "markdown",
      "metadata": {
        "id": "d4OSp8B5jyrw",
        "colab_type": "text"
      },
      "source": [
        "Complexity: O(1)\n",
        "\n",
        "---\n",
        "\n"
      ]
    },
    {
      "cell_type": "markdown",
      "metadata": {
        "id": "QpSlk5l1jos4",
        "colab_type": "text"
      },
      "source": [
        "**Operators**"
      ]
    },
    {
      "cell_type": "code",
      "metadata": {
        "id": "smVoAC0LjpAG",
        "colab_type": "code",
        "outputId": "8bb8a27f-7532-4034-bf54-3ec8bf526449",
        "colab": {
          "base_uri": "https://localhost:8080/",
          "height": 85
        }
      },
      "source": [
        "#!/bin/python3\n",
        "\n",
        "import math\n",
        "import os\n",
        "import random\n",
        "import re\n",
        "import sys\n",
        "\n",
        "# Complete the solve function below.\n",
        "def solve(meal_cost, tip_percent, tax_percent):\n",
        "    tip_amount=meal_cost*(tip_percent/100)\n",
        "    tax_amount=meal_cost*(tax_percent/100)\n",
        "    total_cost=meal_cost+tip_amount+tax_amount\n",
        "    t=round(total_cost)\n",
        "    print(t)\n",
        "\n",
        "if __name__ == '__main__':\n",
        "    meal_cost = float(input())\n",
        "\n",
        "    tip_percent = int(input())\n",
        "\n",
        "    tax_percent = int(input())\n",
        "\n",
        "    solve(meal_cost, tip_percent, tax_percent)\n"
      ],
      "execution_count": 0,
      "outputs": [
        {
          "output_type": "stream",
          "text": [
            "45.67\n",
            "23\n",
            "12\n",
            "62\n"
          ],
          "name": "stdout"
        }
      ]
    },
    {
      "cell_type": "markdown",
      "metadata": {
        "id": "df04CL4hj299",
        "colab_type": "text"
      },
      "source": [
        "Complexity: O(1)\n",
        "\n",
        "---\n",
        "\n"
      ]
    },
    {
      "cell_type": "markdown",
      "metadata": {
        "id": "n3aLIRiWq_JX",
        "colab_type": "text"
      },
      "source": [
        "### **Day 3: Intro to Conditional Statements**"
      ]
    },
    {
      "cell_type": "code",
      "metadata": {
        "id": "CrtXPAXnrBar",
        "colab_type": "code",
        "outputId": "038ad312-1dad-42d6-f0e7-c3098ea08b07",
        "colab": {
          "base_uri": "https://localhost:8080/",
          "height": 51
        }
      },
      "source": [
        "#!/bin/python3\n",
        "\n",
        "import math\n",
        "import os\n",
        "import random\n",
        "import re\n",
        "import sys\n",
        "\n",
        "if __name__ == '__main__':\n",
        "    N = int(input())\n",
        "    if(N%2!=0):\n",
        "        print(\"Weird\")\n",
        "    else:\n",
        "        if(2<=N<=5):\n",
        "            print(\"Not Weird\")\n",
        "        elif(6<=N<=20):\n",
        "            print(\"Weird\")\n",
        "        else:\n",
        "            print(\"Not Weird\")\n",
        "\n"
      ],
      "execution_count": 0,
      "outputs": [
        {
          "output_type": "stream",
          "text": [
            "60\n",
            "Not Weird\n"
          ],
          "name": "stdout"
        }
      ]
    },
    {
      "cell_type": "markdown",
      "metadata": {
        "id": "4p-xX_Mm0mfW",
        "colab_type": "text"
      },
      "source": [
        "\n",
        "\n",
        "---\n",
        "\n"
      ]
    },
    {
      "cell_type": "markdown",
      "metadata": {
        "id": "ZXPe3VuWEJlH",
        "colab_type": "text"
      },
      "source": [
        "### **Day 4: Class vs. Instance**\n",
        "\n"
      ]
    },
    {
      "cell_type": "code",
      "metadata": {
        "id": "HB3N1PwZEKMd",
        "colab_type": "code",
        "outputId": "675c90b0-8b89-45ef-a73a-baa41c9f12fb",
        "colab": {
          "base_uri": "https://localhost:8080/",
          "height": 323
        }
      },
      "source": [
        "class Person:\n",
        "    def __init__(self,initialAge):\n",
        "        # Add some more code to run some checks on initialAge\n",
        "        if(initialAge<0):\n",
        "            print(\"Age is not valid, setting age to 0.\")\n",
        "            self.age=0\n",
        "        else:\n",
        "            self.age=initialAge\n",
        "    def amIOld(self):\n",
        "        # Do some computations in here and print out the correct statement to the console\n",
        "        if(self.age<13):\n",
        "            print(\"You are young.\")\n",
        "        elif(self.age>=13 and self.age<18):\n",
        "            print(\"You are a teenager.\")\n",
        "        else:\n",
        "            print(\"You are old.\")\n",
        "    def yearPasses(self):\n",
        "        # Increment the age of the person in here\n",
        "        self.age=self.age+1\n",
        "\n",
        "t = int(input())\n",
        "for i in range(0, t):\n",
        "    age = int(input())         \n",
        "    p = Person(age)  \n",
        "    p.amIOld()\n",
        "    for j in range(0, 3):\n",
        "        p.yearPasses()       \n",
        "    p.amIOld()\n",
        "    print(\"\")"
      ],
      "execution_count": 0,
      "outputs": [
        {
          "output_type": "stream",
          "text": [
            "4\n",
            "-1\n",
            "Age is not valid, setting age to 0.\n",
            "You are young.\n",
            "You are young.\n",
            "\n",
            "10\n",
            "You are young.\n",
            "You are a teenager.\n",
            "\n",
            "16\n",
            "You are a teenager.\n",
            "You are old.\n",
            "\n",
            "18\n",
            "You are old.\n",
            "You are old.\n",
            "\n"
          ],
          "name": "stdout"
        }
      ]
    },
    {
      "cell_type": "markdown",
      "metadata": {
        "id": "9vUkl5bz0lfQ",
        "colab_type": "text"
      },
      "source": [
        "\n",
        "\n",
        "---\n",
        "\n"
      ]
    },
    {
      "cell_type": "markdown",
      "metadata": {
        "id": "CDUT4_gtEh0o",
        "colab_type": "text"
      },
      "source": [
        "### **Day 5: Loops**"
      ]
    },
    {
      "cell_type": "code",
      "metadata": {
        "id": "8qux_GZ0EqaC",
        "colab_type": "code",
        "outputId": "68d12d8c-afb9-473a-cfbe-8cc02e0e54a3",
        "colab": {
          "base_uri": "https://localhost:8080/",
          "height": 204
        }
      },
      "source": [
        "#!/bin/python3\n",
        "\n",
        "if __name__ == '__main__':\n",
        "    n = int(input())\n",
        "    for i in range(1,11):\n",
        "        print(\"%d x %d = %d\"%(n,i,n*i))\n"
      ],
      "execution_count": 0,
      "outputs": [
        {
          "output_type": "stream",
          "text": [
            "15\n",
            "15 x 1 = 15\n",
            "15 x 2 = 30\n",
            "15 x 3 = 45\n",
            "15 x 4 = 60\n",
            "15 x 5 = 75\n",
            "15 x 6 = 90\n",
            "15 x 7 = 105\n",
            "15 x 8 = 120\n",
            "15 x 9 = 135\n",
            "15 x 10 = 150\n"
          ],
          "name": "stdout"
        }
      ]
    },
    {
      "cell_type": "markdown",
      "metadata": {
        "id": "Nle9tcv00jy1",
        "colab_type": "text"
      },
      "source": [
        "\n",
        "\n",
        "---\n",
        "\n"
      ]
    },
    {
      "cell_type": "markdown",
      "metadata": {
        "id": "skVFlFiBE7I2",
        "colab_type": "text"
      },
      "source": [
        "**Complexity : O(10)**"
      ]
    },
    {
      "cell_type": "markdown",
      "metadata": {
        "id": "5n-KLa7CsADo",
        "colab_type": "text"
      },
      "source": [
        "### **Day 12: Inheritance**\n"
      ]
    },
    {
      "cell_type": "code",
      "metadata": {
        "id": "MYmcFUqmsAiK",
        "colab_type": "code",
        "outputId": "d3c00f0a-52d0-4491-ec34-7c7ac8ff4703",
        "colab": {
          "base_uri": "https://localhost:8080/",
          "height": 119
        }
      },
      "source": [
        "class Person:\n",
        "\tdef __init__(self, firstName, lastName, idNumber):\n",
        "\t\tself.firstName = firstName\n",
        "\t\tself.lastName = lastName\n",
        "\t\tself.idNumber = idNumber\n",
        "\tdef printPerson(self):\n",
        "\t\tprint(\"Name:\", self.lastName + \",\", self.firstName)\n",
        "\t\tprint(\"ID:\", self.idNumber)\n",
        "\n",
        "class Student(Person):\n",
        "    def __init__(self,firstName,lastName,idNum,scores):\n",
        "        super().__init__(firstName,lastName,idNum)\n",
        "        self.scores=scores\n",
        "    \n",
        "\n",
        "    #   Function Name: calculate\n",
        "    def calculate(self):\n",
        "        grade=sum(self.scores)/len(scores)\n",
        "        if(90<=grade<=100):\n",
        "            return \"O\"\n",
        "        elif(80<=grade<90):\n",
        "            return \"E\"\n",
        "        elif(70<=grade<80):\n",
        "            return \"A\"\n",
        "        elif(55<=grade<70):\n",
        "            return \"P\"\n",
        "        elif(40<=grade<55):\n",
        "            return \"D\"\n",
        "        else:\n",
        "            return \"T\"\n",
        "\n",
        "\n",
        "line = input().split()\n",
        "firstName = line[0]\n",
        "lastName = line[1]\n",
        "idNum = line[2]\n",
        "numScores = int(input()) # not needed for Python\n",
        "scores = list( map(int, input().split()) )\n",
        "s = Student(firstName, lastName, idNum, scores)\n",
        "s.printPerson()\n",
        "print(\"Grade:\", s.calculate())"
      ],
      "execution_count": 0,
      "outputs": [
        {
          "output_type": "stream",
          "text": [
            "Heraldo Memelli 8135627\n",
            "2\n",
            "100 80\n",
            "Name: Memelli, Heraldo\n",
            "ID: 8135627\n",
            "Grade: O\n"
          ],
          "name": "stdout"
        }
      ]
    },
    {
      "cell_type": "markdown",
      "metadata": {
        "id": "zICo6RLA0h7v",
        "colab_type": "text"
      },
      "source": [
        "\n",
        "\n",
        "---\n",
        "\n"
      ]
    },
    {
      "cell_type": "markdown",
      "metadata": {
        "id": "oIMud8PWzejl",
        "colab_type": "text"
      },
      "source": [
        "### **Day 15: Linked List**\n",
        "\n"
      ]
    },
    {
      "cell_type": "code",
      "metadata": {
        "id": "vBa1FU0UzfBi",
        "colab_type": "code",
        "outputId": "d6239458-6746-4bfa-fd4c-40460be54d46",
        "colab": {
          "base_uri": "https://localhost:8080/",
          "height": 119
        }
      },
      "source": [
        "class Node:\n",
        "    def __init__(self,data):\n",
        "        self.data = data\n",
        "        self.next = None \n",
        "class Solution: \n",
        "    def display(self,head):\n",
        "        current = head\n",
        "        while current:\n",
        "            print(current.data,end=' ')\n",
        "            current = current.next\n",
        "\n",
        "    def insert(self,head,data): \n",
        "        n1=Node(data)\n",
        "        if(head==None):\n",
        "            head=n1\n",
        "            return head\n",
        "        else:\n",
        "            first=head\n",
        "            while(first.next!=None):\n",
        "                first=first.next\n",
        "            first.next=n1\n",
        "        return head\n",
        "        \n",
        "\n",
        "mylist= Solution()\n",
        "T=int(input())\n",
        "head=None\n",
        "for i in range(T):\n",
        "    data=int(input())\n",
        "    head=mylist.insert(head,data)    \n",
        "mylist.display(head); \t  "
      ],
      "execution_count": 0,
      "outputs": [
        {
          "output_type": "stream",
          "text": [
            "4\n",
            "2\n",
            "3\n",
            "4\n",
            "1\n",
            "2 3 4 1 "
          ],
          "name": "stdout"
        }
      ]
    },
    {
      "cell_type": "markdown",
      "metadata": {
        "id": "oDt_zFkj0fRY",
        "colab_type": "text"
      },
      "source": [
        "\n",
        "\n",
        "---\n",
        "\n"
      ]
    },
    {
      "cell_type": "markdown",
      "metadata": {
        "id": "VQfNwwaI0OGE",
        "colab_type": "text"
      },
      "source": [
        "### **Day 7: Arrays**"
      ]
    },
    {
      "cell_type": "code",
      "metadata": {
        "id": "yuNYFfqh0PzI",
        "colab_type": "code",
        "outputId": "42384f0e-1941-4f34-ca19-97801c66d39c",
        "colab": {
          "base_uri": "https://localhost:8080/",
          "height": 68
        }
      },
      "source": [
        "if __name__ == '__main__':\n",
        "    n = int(input())\n",
        "\n",
        "    arr = list(map(int, input().rstrip().split()))\n",
        "    for i in range(len(arr)-1,-1,-1):\n",
        "        print(arr[i],end=\" \")"
      ],
      "execution_count": 0,
      "outputs": [
        {
          "output_type": "stream",
          "text": [
            "6\n",
            "1 2 6 5 4 3 \n",
            "3 4 5 6 2 1 "
          ],
          "name": "stdout"
        }
      ]
    },
    {
      "cell_type": "markdown",
      "metadata": {
        "id": "38YD5XxV0ZNi",
        "colab_type": "text"
      },
      "source": [
        "Complexity of this code is **O(n)**\n",
        "\n",
        "---\n",
        "\n"
      ]
    },
    {
      "cell_type": "markdown",
      "metadata": {
        "id": "UL8-VqUt1VZ8",
        "colab_type": "text"
      },
      "source": [
        "### **Day 16: Exceptions - String to Integer**"
      ]
    },
    {
      "cell_type": "code",
      "metadata": {
        "id": "YzmTZcJN1YgN",
        "colab_type": "code",
        "outputId": "8410e62a-d665-45dc-b639-b3a2f67611b7",
        "colab": {
          "base_uri": "https://localhost:8080/",
          "height": 51
        }
      },
      "source": [
        "S = input().strip()\n",
        "try:\n",
        "    print(int(S))\n",
        "except:\n",
        "    print(\"Bad String\")\n"
      ],
      "execution_count": 0,
      "outputs": [
        {
          "output_type": "stream",
          "text": [
            "cbfd\n",
            "Bad String\n"
          ],
          "name": "stdout"
        }
      ]
    },
    {
      "cell_type": "markdown",
      "metadata": {
        "id": "2d1kQKVX1eoR",
        "colab_type": "text"
      },
      "source": [
        "complexity: **O(1)**\n",
        "\n",
        "---\n",
        "\n"
      ]
    },
    {
      "cell_type": "markdown",
      "metadata": {
        "id": "_sUqctMw2plY",
        "colab_type": "text"
      },
      "source": [
        "### **Day 8: Dictionaries and Maps**"
      ]
    },
    {
      "cell_type": "code",
      "metadata": {
        "id": "OOop7IUK2p7Y",
        "colab_type": "code",
        "outputId": "e8dac2b4-c451-43ba-b45d-0dc2254a8e65",
        "colab": {
          "base_uri": "https://localhost:8080/",
          "height": 204
        }
      },
      "source": [
        "\n",
        "if __name__ == \"__main__\":\n",
        "    book=dict()\n",
        "    n=int(input())\n",
        "    for i in range(n):\n",
        "        name,number=input().split()\n",
        "        book[name]=number\n",
        "    try:\n",
        "        while(1):\n",
        "            m=input()\n",
        "            if(len(m)>1):\n",
        "                if(m in book.keys()):\n",
        "                    print(m+ \"=\" + book[m])\n",
        "                else:\n",
        "                    print(\"Not found\")\n",
        "            else:\n",
        "                break\n",
        "    except EOFError:\n",
        "        pass"
      ],
      "execution_count": 0,
      "outputs": [
        {
          "output_type": "stream",
          "text": [
            "3\n",
            "sam 99912222\n",
            "tom 11122222\n",
            "harry 12299933\n",
            "sam\n",
            "sam=99912222\n",
            "edward\n",
            "Not found\n",
            "harry\n",
            "harry=12299933\n",
            "\n"
          ],
          "name": "stdout"
        }
      ]
    },
    {
      "cell_type": "markdown",
      "metadata": {
        "id": "IpBdaFde2u6W",
        "colab_type": "text"
      },
      "source": [
        "Complexity: **O(n)**\n",
        "\n",
        "---\n",
        "\n"
      ]
    },
    {
      "cell_type": "markdown",
      "metadata": {
        "id": "4vmEFJx_3kO6",
        "colab_type": "text"
      },
      "source": [
        "### **Day 9: Recursion 3**\n",
        "\n"
      ]
    },
    {
      "cell_type": "code",
      "metadata": {
        "id": "-LP1bILA3l6B",
        "colab_type": "code",
        "outputId": "6f120122-7388-41e4-faf1-5edf3676461f",
        "colab": {
          "base_uri": "https://localhost:8080/",
          "height": 51
        }
      },
      "source": [
        "def factorial(n):\n",
        "    if(n==0 or n==1):\n",
        "        return 1\n",
        "    else:\n",
        "        return n*factorial(n-1)\n",
        "\n",
        "if __name__ == '__main__':\n",
        "\n",
        "    n = int(input())\n",
        "\n",
        "    result = factorial(n)\n",
        "\n",
        "    print(result)"
      ],
      "execution_count": 0,
      "outputs": [
        {
          "output_type": "stream",
          "text": [
            "5\n",
            "120\n"
          ],
          "name": "stdout"
        }
      ]
    },
    {
      "cell_type": "markdown",
      "metadata": {
        "id": "KXM0vqUb3tAu",
        "colab_type": "text"
      },
      "source": [
        "Complexity: **O(n)**\n",
        "\n",
        "---\n",
        "\n"
      ]
    },
    {
      "cell_type": "markdown",
      "metadata": {
        "id": "iTuVlRE35Qql",
        "colab_type": "text"
      },
      "source": [
        "### **Day 10: Binary Numbers**\n",
        "\n",
        "Tell the max number of consecutive 1's in a decimal number when it is converted into binary.\n",
        "Step1: Convert dec into bin\n",
        "Step2: Count max number of consecutive one's."
      ]
    },
    {
      "cell_type": "code",
      "metadata": {
        "id": "FFybLQI15Sam",
        "colab_type": "code",
        "outputId": "8afb8c51-46be-40c6-a5fb-21b621ff7e5f",
        "colab": {
          "base_uri": "https://localhost:8080/",
          "height": 51
        }
      },
      "source": [
        "if __name__ == '__main__':\n",
        "    n = int(input())\n",
        "    count=0\n",
        "    result=0\n",
        "    while(n>0):\n",
        "        if(n%2==1):\n",
        "            count+=1\n",
        "        else:\n",
        "            count=0\n",
        "        result=max(count,result)\n",
        "        n=n//2\n",
        "    print(result)\n"
      ],
      "execution_count": 0,
      "outputs": [
        {
          "output_type": "stream",
          "text": [
            "16\n",
            "1\n"
          ],
          "name": "stdout"
        }
      ]
    },
    {
      "cell_type": "markdown",
      "metadata": {
        "id": "UBZzZiVC5kAl",
        "colab_type": "text"
      },
      "source": [
        "Complexity: **O(n)**\n",
        "\n",
        "---\n",
        "\n"
      ]
    },
    {
      "cell_type": "markdown",
      "metadata": {
        "id": "Ts7u4ZpW6jwV",
        "colab_type": "text"
      },
      "source": [
        "### **Day 14: Scope**\n",
        "Compute max absolute difference between any 2 elements of the given array.\n"
      ]
    },
    {
      "cell_type": "code",
      "metadata": {
        "id": "wkjgwRVy6kWd",
        "colab_type": "code",
        "outputId": "dde2eb00-acde-47d4-c71a-453ecde9506a",
        "colab": {
          "base_uri": "https://localhost:8080/",
          "height": 68
        }
      },
      "source": [
        "class Difference:\n",
        "    def __init__(self, a):\n",
        "        self.__elements = a\n",
        "        self.maximumDifference=0\n",
        "        \n",
        "    def computeDifference(self):\n",
        "        self.__elements.sort()\n",
        "        self.maximumDifference= abs(self.__elements[0]-self.__elements[-1])\n",
        "\n",
        "\t# Add your code here\n",
        "\n",
        "# End of Difference class\n",
        "\n",
        "_ = input()\n",
        "a = [int(e) for e in input().split(' ')]\n",
        "\n",
        "d = Difference(a)\n",
        "d.computeDifference()\n",
        "\n",
        "print(d.maximumDifference)"
      ],
      "execution_count": 0,
      "outputs": [
        {
          "output_type": "stream",
          "text": [
            "3\n",
            "1 2 5\n",
            "4\n"
          ],
          "name": "stdout"
        }
      ]
    },
    {
      "cell_type": "markdown",
      "metadata": {
        "id": "AI4BQawP6yva",
        "colab_type": "text"
      },
      "source": [
        "Complexity: **O(nlogn)** because of sort function. \n",
        "\n",
        "---\n",
        "\n"
      ]
    },
    {
      "cell_type": "markdown",
      "metadata": {
        "id": "4rCMlf2D1BI0",
        "colab_type": "text"
      },
      "source": [
        "### **Day 17: More Exceptions**"
      ]
    },
    {
      "cell_type": "code",
      "metadata": {
        "id": "F6G6SdtR1DLg",
        "colab_type": "code",
        "outputId": "a0a23fc3-f3be-4510-e75d-71cf9609725c",
        "colab": {
          "base_uri": "https://localhost:8080/",
          "height": 170
        }
      },
      "source": [
        "#Write your code here\n",
        "class Calculator:\n",
        "    def power(self,n,p):\n",
        "        if(n>=0 and p>=0):\n",
        "            return pow(n,p)\n",
        "        else:\n",
        "            raise Exception(\"n and p should be non-negative\")\n",
        "\n",
        "myCalculator=Calculator()\n",
        "T=int(input())\n",
        "for i in range(T):\n",
        "    n,p = map(int, input().split())\n",
        "    try:\n",
        "        ans=myCalculator.power(n,p)\n",
        "        print(ans)\n",
        "    except Exception as e:\n",
        "        print(e)   "
      ],
      "execution_count": 0,
      "outputs": [
        {
          "output_type": "stream",
          "text": [
            "4\n",
            "3 5\n",
            "243\n",
            "2 4\n",
            "16\n",
            "-1 -2\n",
            "n and p should be non-negative\n",
            "2 -7\n",
            "n and p should be non-negative\n"
          ],
          "name": "stdout"
        }
      ]
    },
    {
      "cell_type": "markdown",
      "metadata": {
        "id": "TeuqW4fHBgBL",
        "colab_type": "text"
      },
      "source": [
        "\n",
        "\n",
        "---\n",
        "\n"
      ]
    }
  ]
}