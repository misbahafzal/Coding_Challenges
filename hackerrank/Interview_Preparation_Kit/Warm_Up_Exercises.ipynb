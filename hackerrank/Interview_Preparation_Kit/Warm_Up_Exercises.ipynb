{
  "nbformat": 4,
  "nbformat_minor": 0,
  "metadata": {
    "colab": {
      "name": "Warm_Up_Exercises.ipynb",
      "provenance": []
    },
    "kernelspec": {
      "name": "python3",
      "display_name": "Python 3"
    }
  },
  "cells": [
    {
      "cell_type": "markdown",
      "metadata": {
        "id": "hMfddB0ClldP",
        "colab_type": "text"
      },
      "source": [
        "### **Sock Merchant**\n",
        "\n",
        "Given an integer list of socks where an integer represents color of the particular socks. Find out how many pairs can be made out of this pool of socks.\n",
        "example: [1,2,1,3,4,1,2]\n",
        "there are three socks of color 1 so 1 pair can be made from color 1 and 1 pair can be made from color 2. Finally, we can make total 2 pairs of socks out of this pool."
      ]
    },
    {
      "cell_type": "code",
      "metadata": {
        "id": "cOqP4PeHla1Q",
        "colab_type": "code",
        "colab": {
          "base_uri": "https://localhost:8080/",
          "height": 69
        },
        "outputId": "e67810fb-eeec-47d5-9571-410b7e2b4ea9"
      },
      "source": [
        "import sys\n",
        "import os\n",
        "from collections import Counter\n",
        "# Complete the sockMerchant function below.\n",
        "def sockMerchant(n, ar):\n",
        "    pair=0\n",
        "    arr=dict(Counter(ar))\n",
        "    for value in arr.values():\n",
        "        if(value ==2):\n",
        "            pair+=1\n",
        "        elif(value%2==0):\n",
        "            pair+=(value/2)\n",
        "        else:\n",
        "            pair+=((value-1)/2)\n",
        "    return int(pair)\n",
        "\n",
        "\n",
        "#autocompleted code\n",
        "if __name__ == '__main__':\n",
        "    \n",
        "\n",
        "    n = int(input())\n",
        "\n",
        "    ar = list(map(int, input().rstrip().split()))\n",
        "\n",
        "    result = sockMerchant(n, ar)\n",
        "\n",
        "    print(result)\n",
        "\n",
        "    \n"
      ],
      "execution_count": 2,
      "outputs": [
        {
          "output_type": "stream",
          "text": [
            "9\n",
            "10 20 20 10 10 30 50 10 20\n",
            "3\n"
          ],
          "name": "stdout"
        }
      ]
    },
    {
      "cell_type": "markdown",
      "metadata": {
        "id": "taUM0fS9mgea",
        "colab_type": "text"
      },
      "source": [
        "Complexity of this code is O(n)\n",
        "\n",
        "---\n",
        "\n"
      ]
    },
    {
      "cell_type": "markdown",
      "metadata": {
        "id": "FTEptXzzm0ym",
        "colab_type": "text"
      },
      "source": [
        "### **Counting Valleys**\n",
        "Gary is an avid hiker. He tracks his hikes meticulously, paying close attention to small details like topography. During his last hike he took exactly  steps. For every step he took, he noted if it was an uphill, , or a downhill,  step. Gary's hikes start and end at sea level and each step up or down represents a  unit change in altitude. We define the following terms:\n",
        "\n",
        "A mountain is a sequence of consecutive steps above sea level, starting with a step up from sea level and ending with a step down to sea level.\n",
        "A valley is a sequence of consecutive steps below sea level, starting with a step down from sea level and ending with a step up to sea level.\n",
        "Given Gary's sequence of up and down steps during his last hike, find and print the number of valleys he walked through.\n",
        "\n",
        "For example, if Gary's path is , he first enters a valley  units deep. Then he climbs out an up onto a mountain  units high. Finally, he returns to sea level and ends his hike.\n",
        "\n",
        "\n",
        "\n",
        "\n",
        "\n"
      ]
    },
    {
      "cell_type": "code",
      "metadata": {
        "id": "fMUXfGo7nigX",
        "colab_type": "code",
        "colab": {
          "base_uri": "https://localhost:8080/",
          "height": 69
        },
        "outputId": "2e376bf2-0dca-4bbe-afd2-cfc032933599"
      },
      "source": [
        "import math\n",
        "import os\n",
        "import random\n",
        "import re\n",
        "import sys\n",
        "\n",
        "# Complete the countingValleys function below.\n",
        "def countingValleys(n, s):\n",
        "    summ=0\n",
        "    count=0\n",
        "    for i in range(n):\n",
        "        if(s[i]==\"U\"):\n",
        "            summ=summ+1\n",
        "            if(summ==0):\n",
        "                count+=1\n",
        "        else:\n",
        "            summ=summ-1\n",
        "    return count\n",
        "        \n",
        "if __name__ == '__main__':\n",
        "    n = int(input())\n",
        "    s = input()\n",
        "    result = countingValleys(n, s)\n",
        "    print(result)\n",
        "\n",
        "  \n"
      ],
      "execution_count": 3,
      "outputs": [
        {
          "output_type": "stream",
          "text": [
            "8\n",
            "UDDDUDUU\n",
            "1\n"
          ],
          "name": "stdout"
        }
      ]
    },
    {
      "cell_type": "markdown",
      "metadata": {
        "id": "ZpKrGjeygc9J",
        "colab_type": "text"
      },
      "source": [
        "### **Jumping on the Clouds** \n",
        "\n",
        "A scenario of a obile game where 0 represents cumulus and 1 represents thunderheads. Player can only jump onto cumulus. From one cumulus to another, there should be a difference of max 2. Find minimum number of jumps to complete the level.\n",
        "\n",
        "c=[0,1,0,0,0,1,0] min number of jumps is 3.\n",
        "\n"
      ]
    },
    {
      "cell_type": "code",
      "metadata": {
        "id": "rl019x4ehHBQ",
        "colab_type": "code",
        "colab": {
          "base_uri": "https://localhost:8080/",
          "height": 69
        },
        "outputId": "0e0071bb-e038-466d-bddb-b0071e73ca08"
      },
      "source": [
        "#!/bin/python3\n",
        "\n",
        "import math\n",
        "import os\n",
        "import random\n",
        "import re\n",
        "import sys\n",
        "\n",
        "# Complete the jumpingOnClouds function below.\n",
        "def jumpingOnClouds(c):\n",
        "    min_jump=0\n",
        "    i=0\n",
        "    while(i<=len(c)-2):\n",
        "        if(i+2<=len(c)-1 and c[i+2]==0):\n",
        "            min_jump+=1\n",
        "            i+=2\n",
        "        else:\n",
        "            i+=1\n",
        "            min_jump+=1\n",
        "        \n",
        "    return min_jump\n",
        "\n",
        "\n",
        "\n",
        "if __name__ == '__main__':\n",
        "\n",
        "    n = int(input())\n",
        "\n",
        "    c = list(map(int, input().rstrip().split()))\n",
        "\n",
        "    result = jumpingOnClouds(c)\n",
        "    print(result)\n"
      ],
      "execution_count": 1,
      "outputs": [
        {
          "output_type": "stream",
          "text": [
            "7\n",
            "0 0 1 0 0 1 0\n",
            "4\n"
          ],
          "name": "stdout"
        }
      ]
    },
    {
      "cell_type": "markdown",
      "metadata": {
        "id": "enrfcDujlS_4",
        "colab_type": "text"
      },
      "source": [
        "### **Repeated String** \n",
        "\n",
        "Given a string s. Repeat it such that the length becomes n then count the number of a's in it.\n",
        "\n",
        "example: s=\"abc\", n=10 \n",
        "so, new_string=\"abcabcabca\" here count of a is 4.\n",
        "\n"
      ]
    },
    {
      "cell_type": "code",
      "metadata": {
        "id": "6p6DkfydnPd9",
        "colab_type": "code",
        "colab": {
          "base_uri": "https://localhost:8080/",
          "height": 69
        },
        "outputId": "b7f1d3f2-a439-416b-89a1-574b17a8f74d"
      },
      "source": [
        "def repeatedString(s, n):\n",
        "    count=0\n",
        "    for i in s:\n",
        "        if(i==\"a\"):\n",
        "            count+=1\n",
        "    total_count=n//len(s)*count + sum([1 for j in s[0:(n%len(s))] if(j==\"a\")])\n",
        "    return total_count\n",
        "\n",
        "\n",
        "if __name__ == '__main__':\n",
        "    s = input()\n",
        "    n = int(input())\n",
        "    result = repeatedString(s, n)\n",
        "    print(result)\n"
      ],
      "execution_count": 2,
      "outputs": [
        {
          "output_type": "stream",
          "text": [
            "aba\n",
            "10\n",
            "7\n"
          ],
          "name": "stdout"
        }
      ]
    }
  ]
}