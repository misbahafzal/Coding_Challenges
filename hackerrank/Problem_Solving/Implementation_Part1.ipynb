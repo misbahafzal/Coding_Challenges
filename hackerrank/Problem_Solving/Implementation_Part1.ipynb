{
  "nbformat": 4,
  "nbformat_minor": 0,
  "metadata": {
    "colab": {
      "name": "Implementation_Part1.ipynb",
      "provenance": []
    },
    "kernelspec": {
      "name": "python3",
      "display_name": "Python 3"
    }
  },
  "cells": [
    {
      "cell_type": "markdown",
      "metadata": {
        "id": "gsdjDrzGrT7P",
        "colab_type": "text"
      },
      "source": [
        "### **Grading Students**"
      ]
    },
    {
      "cell_type": "code",
      "metadata": {
        "id": "Ejht-YVnrRQT",
        "colab_type": "code",
        "colab": {
          "base_uri": "https://localhost:8080/",
          "height": 170
        },
        "outputId": "26f7e9fa-9540-48a0-dee6-218f04f06a03"
      },
      "source": [
        "#!/bin/python3\n",
        "\n",
        "import math\n",
        "import os\n",
        "import random\n",
        "import re\n",
        "import sys\n",
        "\n",
        "#\n",
        "# Complete the 'gradingStudents' function below.\n",
        "#\n",
        "# The function is expected to return an INTEGER_ARRAY.\n",
        "# The function accepts INTEGER_ARRAY grades as parameter.\n",
        "#\n",
        "\n",
        "def gradingStudents(grades):\n",
        "    result=[]\n",
        "    for grade in grades:\n",
        "        if(grade<38 or grade%5<3):\n",
        "            result.append(grade)\n",
        "        else:\n",
        "            grade+=(5-(grade%5))\n",
        "            result.append(grade)\n",
        "    return result\n",
        "        \n",
        "if __name__ == '__main__':\n",
        "\n",
        "    grades_count = int(input().strip())\n",
        "\n",
        "    grades = []\n",
        "\n",
        "    for _ in range(grades_count):\n",
        "        grades_item = int(input().strip())\n",
        "        grades.append(grades_item)\n",
        "\n",
        "    result = gradingStudents(grades)\n",
        "\n",
        "    print('\\n'.join(map(str, result)))\n",
        "    \n"
      ],
      "execution_count": 1,
      "outputs": [
        {
          "output_type": "stream",
          "text": [
            "4\n",
            "73\n",
            "67\n",
            "38\n",
            "33\n",
            "75\n",
            "67\n",
            "40\n",
            "33\n"
          ],
          "name": "stdout"
        }
      ]
    },
    {
      "cell_type": "markdown",
      "metadata": {
        "id": "9BeFb3oCOycn",
        "colab_type": "text"
      },
      "source": [
        "Complexity of this code is **O(n)** where n is the number of values in \"grades\" list.\n",
        "\n",
        "---\n",
        "\n"
      ]
    },
    {
      "cell_type": "markdown",
      "metadata": {
        "id": "FenhBLr6PH6T",
        "colab_type": "text"
      },
      "source": [
        "### **Apple And Orange**\n",
        "A complete scenario was defined in problem statement. I completed countApplesAndOranges function."
      ]
    },
    {
      "cell_type": "code",
      "metadata": {
        "id": "aBCzDD1OPP3d",
        "colab_type": "code",
        "colab": {
          "base_uri": "https://localhost:8080/",
          "height": 136
        },
        "outputId": "b40c500f-ea1c-49a1-e926-4e5375478790"
      },
      "source": [
        "#!/bin/python3\n",
        "\n",
        "import math\n",
        "import os\n",
        "import random\n",
        "import re\n",
        "import sys\n",
        "\n",
        "# Complete the countApplesAndOranges function below.\n",
        "def countApplesAndOranges(s, t, a, b, apples, oranges):\n",
        "    apple_count=0\n",
        "    orange_count=0\n",
        "    for i in range(len(apples)):\n",
        "        if(s<=(apples[i]+a)<=t):\n",
        "            apple_count+=1\n",
        "    for j in range(len(oranges)):\n",
        "        if(s<=(oranges[j]+b)<=t):\n",
        "            orange_count+=1\n",
        "    print(apple_count,orange_count,sep=\"\\n\")\n",
        "        \n",
        "\n",
        "\n",
        "if __name__ == '__main__':\n",
        "    st = input().split()\n",
        "\n",
        "    s = int(st[0])\n",
        "\n",
        "    t = int(st[1])\n",
        "\n",
        "    ab = input().split()\n",
        "\n",
        "    a = int(ab[0])\n",
        "\n",
        "    b = int(ab[1])\n",
        "\n",
        "    mn = input().split()\n",
        "\n",
        "    m = int(mn[0])\n",
        "\n",
        "    n = int(mn[1])\n",
        "\n",
        "    apples = list(map(int, input().rstrip().split()))\n",
        "\n",
        "    oranges = list(map(int, input().rstrip().split()))\n",
        "\n",
        "    countApplesAndOranges(s, t, a, b, apples, oranges)\n"
      ],
      "execution_count": 1,
      "outputs": [
        {
          "output_type": "stream",
          "text": [
            "7 11\n",
            "5 15\n",
            "3 2\n",
            "-2 2 1\n",
            "5 -6\n",
            "1\n",
            "1\n"
          ],
          "name": "stdout"
        }
      ]
    },
    {
      "cell_type": "markdown",
      "metadata": {
        "id": "Qs3uMLNYPmxR",
        "colab_type": "text"
      },
      "source": [
        "Complexity: O(n) + O(m) where n is the number of oranges and m is the number of apples. "
      ]
    },
    {
      "cell_type": "markdown",
      "metadata": {
        "id": "rFxxzOvoW_yk",
        "colab_type": "text"
      },
      "source": [
        "### **Kangaroo**\n",
        "\n",
        "Check if they meet at similar point after some number of jumps. Below is the brute force technique."
      ]
    },
    {
      "cell_type": "code",
      "metadata": {
        "id": "BQly1UjmXNol",
        "colab_type": "code",
        "colab": {
          "base_uri": "https://localhost:8080/",
          "height": 51
        },
        "outputId": "235cd7db-5955-4d97-e6a4-1dc6eba235d1"
      },
      "source": [
        "#!/bin/python3\n",
        "\n",
        "import math\n",
        "import os\n",
        "import random\n",
        "import re\n",
        "import sys\n",
        "\n",
        "# Complete the kangaroo function below.\n",
        "def kangaroo(x1, v1, x2, v2):\n",
        "    jumps=0\n",
        "    while(x1!=x2):\n",
        "        x1+=v1\n",
        "        x2+=v2\n",
        "        jumps+=1\n",
        "        if(jumps>10000):\n",
        "            break\n",
        "    if(jumps<10000):\n",
        "        return \"YES\"\n",
        "    else:\n",
        "        return \"NO\"\n",
        "\n",
        "if __name__ == '__main__':\n",
        "  \n",
        "    x1V1X2V2 = input().split()\n",
        "\n",
        "    x1 = int(x1V1X2V2[0])\n",
        "\n",
        "    v1 = int(x1V1X2V2[1])\n",
        "\n",
        "    x2 = int(x1V1X2V2[2])\n",
        "\n",
        "    v2 = int(x1V1X2V2[3])\n",
        "\n",
        "    result = kangaroo(x1, v1, x2, v2)\n",
        "\n",
        "    print(result)\n"
      ],
      "execution_count": 2,
      "outputs": [
        {
          "output_type": "stream",
          "text": [
            "0 3 4 2\n",
            "YES\n"
          ],
          "name": "stdout"
        }
      ]
    },
    {
      "cell_type": "markdown",
      "metadata": {
        "id": "sjY6hYQ5XWyP",
        "colab_type": "text"
      },
      "source": [
        "Complexity: **O(jumps) or you can call it \"n\" so O(n).**"
      ]
    },
    {
      "cell_type": "markdown",
      "metadata": {
        "id": "6nJlGb2By33S",
        "colab_type": "text"
      },
      "source": [
        "More efficient technique. Complexity is O(1)."
      ]
    },
    {
      "cell_type": "code",
      "metadata": {
        "id": "dyMgeE3fy84X",
        "colab_type": "code",
        "colab": {
          "base_uri": "https://localhost:8080/",
          "height": 51
        },
        "outputId": "ee0bcc82-9074-4e6b-b4dc-eb549d14a7ec"
      },
      "source": [
        "#!/bin/python3\n",
        "\n",
        "import math\n",
        "import os\n",
        "import random\n",
        "import re\n",
        "import sys\n",
        "\n",
        "# Complete the kangaroo function below.\n",
        "def kangaroo(x1, v1, x2, v2): \n",
        "    if(x2>x1 and v2==v1): #using common sense, if kangroo2 starts ahead of kangroo1 and both have same meters of jump, they will never meet. \n",
        "                            #For kangroo1 to meet kangroo2, it should have greater number of meters of jumps.\n",
        "        return \"NO\"\n",
        "    elif((x2-x1)%(v2-v1)==0 and v2<v1): #For 2 kangroos to meet, we need to cover the initial distance i.e. x2-x1 for kangroo1 by keeping its \"meters of jumps\" greater than kangroo2 (v2<v1).\n",
        "                                        #In other words, if (x2-x1) is the multiple of (v2-v1) , kangroos will meet. For checking this, use modulus operator. \n",
        "        return \"YES\"\n",
        "    else:\n",
        "        return \"NO\"\n",
        "\n",
        "if __name__ == '__main__':\n",
        "\n",
        "    x1V1X2V2 = input().split()\n",
        "\n",
        "    x1 = int(x1V1X2V2[0])\n",
        "\n",
        "    v1 = int(x1V1X2V2[1])\n",
        "\n",
        "    x2 = int(x1V1X2V2[2])\n",
        "\n",
        "    v2 = int(x1V1X2V2[3])\n",
        "\n",
        "    result = kangaroo(x1, v1, x2, v2)\n",
        "\n",
        "    print(result)"
      ],
      "execution_count": 3,
      "outputs": [
        {
          "output_type": "stream",
          "text": [
            "0 3 4 2\n",
            "YES\n"
          ],
          "name": "stdout"
        }
      ]
    },
    {
      "cell_type": "markdown",
      "metadata": {
        "id": "rVCxGBtUaqGO",
        "colab_type": "text"
      },
      "source": [
        "### **Breaking the Records**\n",
        "\n"
      ]
    },
    {
      "cell_type": "code",
      "metadata": {
        "id": "_FrEmpogasv4",
        "colab_type": "code",
        "colab": {}
      },
      "source": [
        "#!/bin/python3\n",
        "\n",
        "import math\n",
        "import os\n",
        "import random\n",
        "import re\n",
        "import sys\n",
        "\n",
        "# Complete the breakingRecords function below.\n",
        "def breakingRecords(scores):\n",
        "    best_count=0\n",
        "    worst_count=0\n",
        "    best_record=scores[0]\n",
        "    worst_record=scores[0]\n",
        "    for i in range(1,len(scores)):\n",
        "        if(best_record<scores[i]):\n",
        "            best_record=scores[i]\n",
        "            best_count+=1\n",
        "        elif(worst_record>scores[i]):\n",
        "            worst_record=scores[i]\n",
        "            worst_count+=1\n",
        "    return best_count,worst_count\n",
        "\n",
        "if __name__ == '__main__':\n",
        "  \n",
        "    n = int(input())\n",
        "\n",
        "    scores = list(map(int, input().rstrip().split()))\n",
        "\n",
        "    result = breakingRecords(scores)\n",
        "\n",
        "    print(' '.join(map(str, result)))\n",
        "    "
      ],
      "execution_count": 0,
      "outputs": []
    },
    {
      "cell_type": "markdown",
      "metadata": {
        "id": "OoWlrx_T3-Sd",
        "colab_type": "text"
      },
      "source": [
        "### **Day of the Programmer**"
      ]
    },
    {
      "cell_type": "code",
      "metadata": {
        "id": "0qYcRdXt3-gc",
        "colab_type": "code",
        "colab": {
          "base_uri": "https://localhost:8080/",
          "height": 51
        },
        "outputId": "8c85c32e-3212-47c7-f7fe-793ea413dc17"
      },
      "source": [
        "#!/bin/python3\n",
        "\n",
        "import math\n",
        "import os\n",
        "import random\n",
        "import re\n",
        "import sys\n",
        "\n",
        "# Complete the dayOfProgrammer function below.\n",
        "def dayOfProgrammer(year):\n",
        "    if((year<1918 and year%4==0) or (year>1918 and (((year%4==0 and year%100!=0) or (year%400==0))))):\n",
        "        date= \"12.09.{0}\".format(year)\n",
        "        return date\n",
        "    elif((year<1918 and year%4!=0) or (year%100==0 and year%4==0 and year>1918)):\n",
        "        date= \"13.09.{0}\".format(year)\n",
        "        return date\n",
        "    elif(year==1918):\n",
        "        return \"26.09.1918\"\n",
        "    else:\n",
        "        date= \"13.09.{0}\".format(year)\n",
        "        return date \n",
        "\n",
        "if __name__ == '__main__':\n",
        "\n",
        "    year = int(input().strip())\n",
        "\n",
        "    result = dayOfProgrammer(year)\n",
        "\n",
        "    print(result)\n"
      ],
      "execution_count": 1,
      "outputs": [
        {
          "output_type": "stream",
          "text": [
            "2020\n",
            "12.09.2020\n"
          ],
          "name": "stdout"
        }
      ]
    },
    {
      "cell_type": "markdown",
      "metadata": {
        "id": "QUEhfRs-4Uu0",
        "colab_type": "text"
      },
      "source": [
        "Complexity: O(1)\n",
        "\n",
        "---\n",
        "\n"
      ]
    },
    {
      "cell_type": "markdown",
      "metadata": {
        "id": "bTqroaV06f0h",
        "colab_type": "text"
      },
      "source": [
        "### **Birthday Chocolate**\n",
        "\n"
      ]
    },
    {
      "cell_type": "code",
      "metadata": {
        "id": "mbq9g9Ok6gt9",
        "colab_type": "code",
        "colab": {
          "base_uri": "https://localhost:8080/",
          "height": 85
        },
        "outputId": "cdbb60d1-b727-454d-cddd-7cb1d34453be"
      },
      "source": [
        "#!/bin/python3\n",
        "\n",
        "import math\n",
        "import os\n",
        "import random\n",
        "import re\n",
        "import sys\n",
        "\n",
        "# Complete the birthday function below.\n",
        "def birthday(s, d, m):\n",
        "    index=0\n",
        "    count=0\n",
        "    if(len(s)==m and sum(s)==d):\n",
        "        return 1\n",
        "    else:\n",
        "        while(index!=len(s)-m+1):\n",
        "\n",
        "            bar=s[index:index+m]\n",
        "   \n",
        "            if(len(bar)==m and sum(bar)==d):\n",
        "                count+=1\n",
        "            index+=1\n",
        "    return count\n",
        "\n",
        "\n",
        "if __name__ == '__main__':\n",
        "    n = int(input().strip())\n",
        "\n",
        "    s = list(map(int, input().rstrip().split()))\n",
        "\n",
        "    dm = input().rstrip().split()\n",
        "\n",
        "    d = int(dm[0])\n",
        "\n",
        "    m = int(dm[1])\n",
        "\n",
        "    result = birthday(s, d, m)\n",
        "\n",
        "    print(result)\n"
      ],
      "execution_count": 3,
      "outputs": [
        {
          "output_type": "stream",
          "text": [
            "19\n",
            "2 5 1 3 4 4 3 5 1 1 2 1 4 1 3 3 4 2 1\n",
            "18 7\n",
            "3\n"
          ],
          "name": "stdout"
        }
      ]
    },
    {
      "cell_type": "markdown",
      "metadata": {
        "id": "KvRLR2FSqewo",
        "colab_type": "text"
      },
      "source": [
        "Complexity: O(n^2)\n",
        "\n",
        "---\n",
        "\n"
      ]
    }
  ]
}