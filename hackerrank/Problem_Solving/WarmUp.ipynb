{
  "nbformat": 4,
  "nbformat_minor": 0,
  "metadata": {
    "colab": {
      "name": "WarmUp.ipynb",
      "provenance": []
    },
    "kernelspec": {
      "name": "python3",
      "display_name": "Python 3"
    }
  },
  "cells": [
    {
      "cell_type": "markdown",
      "metadata": {
        "id": "3n48mD704UOW",
        "colab_type": "text"
      },
      "source": [
        "### **Solve Me First**\n",
        "\n",
        "Return sum of two integers :-) "
      ]
    },
    {
      "cell_type": "code",
      "metadata": {
        "id": "fKDjzl5B4Pp5",
        "colab_type": "code",
        "colab": {
          "base_uri": "https://localhost:8080/",
          "height": 68
        },
        "outputId": "dc1c6479-fe5a-4c14-cffd-0ce53aea6910"
      },
      "source": [
        "def solveMeFirst(a,b):\n",
        "    return a+b\n",
        "\n",
        "num1 = int(input())\n",
        "num2 = int(input())\n",
        "res = solveMeFirst(num1,num2)\n",
        "print(res)\n"
      ],
      "execution_count": 1,
      "outputs": [
        {
          "output_type": "stream",
          "text": [
            "16\n",
            "19\n",
            "35\n"
          ],
          "name": "stdout"
        }
      ]
    },
    {
      "cell_type": "markdown",
      "metadata": {
        "id": "uxAAuc0n4n_w",
        "colab_type": "text"
      },
      "source": [
        "Complexity is O(1).\n",
        "\n",
        "---\n",
        "\n"
      ]
    },
    {
      "cell_type": "markdown",
      "metadata": {
        "id": "2VzVjJr34sKW",
        "colab_type": "text"
      },
      "source": [
        "### **Simple Array Sum**\n",
        "\n",
        "Return sum of an array."
      ]
    },
    {
      "cell_type": "code",
      "metadata": {
        "id": "nEcoZTrp5KbH",
        "colab_type": "code",
        "colab": {
          "base_uri": "https://localhost:8080/",
          "height": 68
        },
        "outputId": "785c062d-6987-4f0b-e203-71a43c0a6f4e"
      },
      "source": [
        "#!/bin/python3\n",
        "\n",
        "import os\n",
        "import sys\n",
        "def simpleArraySum(ar):\n",
        "    return sum(ar)\n",
        "if __name__ == '__main__':\n",
        "    ar_count = int(input())\n",
        "    ar = list(map(int, input().rstrip().split()))\n",
        "    result = simpleArraySum(ar)\n",
        "    print(result)"
      ],
      "execution_count": 2,
      "outputs": [
        {
          "output_type": "stream",
          "text": [
            "6\n",
            "1 2 3 4 10 11\n",
            "31\n"
          ],
          "name": "stdout"
        }
      ]
    },
    {
      "cell_type": "markdown",
      "metadata": {
        "id": "fcaXFxWa5ba5",
        "colab_type": "text"
      },
      "source": [
        "COMPLEXITY of this code will be O(n) because of the \"sum\" function. Because sum function will have to iterate over each element in an array to sum it.\n",
        "\n",
        "---\n",
        "\n"
      ]
    },
    {
      "cell_type": "markdown",
      "metadata": {
        "id": "f78igKTz5rBr",
        "colab_type": "text"
      },
      "source": [
        "### **Compare the Triplets**\n",
        "\n",
        "Alice and Bob design programs for hackerrank based on categories problem clarity, originality, and difficulty.They get points from reviewers on each category in the form of a tuple. e.g. a=(1,2,3) for Alice.\n",
        "Compare each element of Alice's points to Bob's point i.e. a[0] with b[0], a[1] with b[1] so on.. Add 1 point for person whose point is greater."
      ]
    },
    {
      "cell_type": "code",
      "metadata": {
        "id": "Es1C5Wlh7dlg",
        "colab_type": "code",
        "colab": {
          "base_uri": "https://localhost:8080/",
          "height": 68
        },
        "outputId": "b94526bb-7b16-44a0-a5a0-3e46b0de9fa7"
      },
      "source": [
        "#!/bin/python3\n",
        "\n",
        "# Complete the compareTriplets function below.\n",
        "def compareTriplets(a, b):\n",
        "    count1=0\n",
        "    count2=0\n",
        "    for value1,value2 in zip(a,b):\n",
        "        if(value1>value2):\n",
        "            count1+=1\n",
        "        elif(value1<value2):\n",
        "            count2+=1\n",
        "    return [count1,count2]\n",
        "\n",
        "\n",
        "if __name__ == '__main__':\n",
        "\n",
        "    a = list(map(int, input().rstrip().split()))\n",
        "\n",
        "    b = list(map(int, input().rstrip().split()))\n",
        "\n",
        "    result = compareTriplets(a, b)\n",
        "    print(\" \".join(map(str,result)))\n"
      ],
      "execution_count": 4,
      "outputs": [
        {
          "output_type": "stream",
          "text": [
            "5 6 7\n",
            "3 6 10\n",
            "1 1\n"
          ],
          "name": "stdout"
        }
      ]
    },
    {
      "cell_type": "markdown",
      "metadata": {
        "id": "2HO_DhTm71nY",
        "colab_type": "text"
      },
      "source": [
        "Complexity of above code:\n",
        "Zip function in python 3.x takes itself O(1) as it allocates a special iterator (zip object).\n",
        "For loop runs three times i.e. equal to categories so we can say it ran for O(3). Consider this to be equal to size of input n, so **O(n)**. \n",
        "\n",
        "---\n",
        "\n"
      ]
    },
    {
      "cell_type": "markdown",
      "metadata": {
        "id": "Bamx3XqB9Bsw",
        "colab_type": "text"
      },
      "source": [
        "### **A Very Big Sum**\n",
        "Given very big integers in an array, print their sum. Since sum is very very large, it may be problematic in C++ or Java (need to choose data type accordingly) but in python, we do not have to worry about memory allocation for integer sum ;-)\n"
      ]
    },
    {
      "cell_type": "code",
      "metadata": {
        "id": "ecfnVWL_9TIs",
        "colab_type": "code",
        "colab": {
          "base_uri": "https://localhost:8080/",
          "height": 68
        },
        "outputId": "c3f29853-e0df-4208-d17a-7925048ecc6c"
      },
      "source": [
        "#!/bin/python3\n",
        "\n",
        "# Complete the aVeryBigSum function below.\n",
        "def aVeryBigSum(ar):\n",
        "    return sum(ar)\n",
        "\n",
        "if __name__ == '__main__':\n",
        "\n",
        "    ar_count = int(input())\n",
        "\n",
        "    ar = list(map(int, input().rstrip().split()))\n",
        "\n",
        "    result = aVeryBigSum(ar)\n",
        "    print(result)\n"
      ],
      "execution_count": 5,
      "outputs": [
        {
          "output_type": "stream",
          "text": [
            "5\n",
            "1000000001 1000000002 1000000003 1000000004 1000000005\n",
            "5000000015\n"
          ],
          "name": "stdout"
        }
      ]
    },
    {
      "cell_type": "markdown",
      "metadata": {
        "id": "6QLZOe3M9seC",
        "colab_type": "text"
      },
      "source": [
        "Complexity is **O(n)** because of sum function.\n",
        "\n",
        "---\n",
        "\n"
      ]
    },
    {
      "cell_type": "markdown",
      "metadata": {
        "id": "ne0JV7WVApKw",
        "colab_type": "text"
      },
      "source": [
        "### **Diagonal Difference**\n",
        "Given a square matrix, calculate absolute difference of sum of both its diagonals.\n",
        " \n",
        "\n",
        "```\n",
        "\n",
        "i.e. 1+5+9=15 and 3+5+9=17\n",
        "|15-17| = 2\n",
        "\n",
        "1 2 3\n",
        "4 5 6\n",
        "9 8 9  \n",
        "```\n",
        "\n"
      ]
    },
    {
      "cell_type": "code",
      "metadata": {
        "id": "Ztr2lgw7Dq9c",
        "colab_type": "code",
        "colab": {
          "base_uri": "https://localhost:8080/",
          "height": 102
        },
        "outputId": "3ffb4318-59b5-4dde-a040-0fc5ab1006eb"
      },
      "source": [
        "def diagonalDifference(arr):\n",
        "    return abs(sum([arr[i][i] for i in range(len(arr))])- sum([arr[i][len(arr)-i-1] for i in range(len(arr))]))\n",
        "    #I have done it in a single line using two for loops. The first diagonal has value 00,11,22 so arr[i][i] is gonna work, for second for loop\n",
        "    #values are like 02,11,20 i.e. i and j are opposite so i will go from 0 to 2 and j will be 2 to 0 i.e. len(arr)-i-1.\n",
        "if __name__ == '__main__':\n",
        "\n",
        "    n = int(input().strip())\n",
        "\n",
        "    arr = []\n",
        "\n",
        "    for _ in range(n):\n",
        "        arr.append(list(map(int, input().rstrip().split())))\n",
        "\n",
        "    result = diagonalDifference(arr)\n",
        "    print(result)"
      ],
      "execution_count": 7,
      "outputs": [
        {
          "output_type": "stream",
          "text": [
            "3\n",
            "11 2 4\n",
            "4 5 6\n",
            "10 8 -12\n",
            "15\n"
          ],
          "name": "stdout"
        }
      ]
    },
    {
      "cell_type": "markdown",
      "metadata": {
        "id": "buDxUikwE_td",
        "colab_type": "text"
      },
      "source": [
        "Two \"for loops\" are separate i.e. independent to one another so it is O(n) and sum function was applied on list (when the loop ends) so it is O(n). The final complexity is **O(n)**."
      ]
    },
    {
      "cell_type": "markdown",
      "metadata": {
        "id": "T89uh1-1FcrU",
        "colab_type": "text"
      },
      "source": [
        "Here, I got my **2nd star** in Problem Solving.\n",
        "\n",
        "---\n",
        "\n"
      ]
    },
    {
      "cell_type": "markdown",
      "metadata": {
        "id": "QJ09jbjhF3tz",
        "colab_type": "text"
      },
      "source": [
        "### **Plus Minus**\n",
        "\n",
        "Given an array with positive, negative and neutral integers (0s).\n",
        "Count the number of total positive integers. Find out fraction of positive integers by dividing their count to total array length.\n",
        "Count the number of total negative integers. Find out fraction of negative integers by dividing their count to total array length.\n",
        "Count all zeroes. Find fraction.\n",
        "\n",
        "```\n",
        "arr= [1,2,-2,-4,0,5,0]\n",
        "There are 3 pos, 2 neg and 2 zeros.\n",
        "so 3/7, 2/7 and 2/7 are fractions respectively. Round to 6 decimal places.\n",
        "```\n",
        "\n",
        "\n"
      ]
    },
    {
      "cell_type": "code",
      "metadata": {
        "id": "gblnZc4aGxAn",
        "colab_type": "code",
        "colab": {
          "base_uri": "https://localhost:8080/",
          "height": 102
        },
        "outputId": "d1f5eb20-3615-4d49-88a6-457376426907"
      },
      "source": [
        "# Complete the plusMinus function below.\n",
        "def plusMinus(arr):\n",
        "    n=len(arr)\n",
        "    pos=0\n",
        "    neg=0\n",
        "    zero=0\n",
        "    for i in arr:\n",
        "        if(i==0):\n",
        "            zero+=1\n",
        "        elif(i<0):\n",
        "            neg+=1\n",
        "        else:\n",
        "            pos+=1\n",
        "    print(round(pos/n,6))\n",
        "    print(round(neg/n,6))\n",
        "    print(round(zero/n,6))\n",
        "\n",
        "if __name__ == '__main__':\n",
        "    n = int(input())\n",
        "\n",
        "    arr = list(map(int, input().rstrip().split()))\n",
        "\n",
        "    plusMinus(arr)\n"
      ],
      "execution_count": 8,
      "outputs": [
        {
          "output_type": "stream",
          "text": [
            "6\n",
            "-4 3 -9 0 4 1\n",
            "0.5\n",
            "0.333333\n",
            "0.166667\n"
          ],
          "name": "stdout"
        }
      ]
    },
    {
      "cell_type": "markdown",
      "metadata": {
        "id": "kGqESVlWG-wX",
        "colab_type": "text"
      },
      "source": [
        "Complexity is O(n) equal to number of elements in array.\n",
        "\n",
        "---\n",
        "\n"
      ]
    },
    {
      "cell_type": "markdown",
      "metadata": {
        "id": "LghK2G9rIFTH",
        "colab_type": "text"
      },
      "source": [
        "### **Staircase**\n",
        "\n",
        "Make a staircase of size , example, 4.\n",
        "\n",
        "```\n",
        "   #\n",
        "  ##\n",
        " ###\n",
        "####\n",
        "```\n",
        "\n"
      ]
    },
    {
      "cell_type": "code",
      "metadata": {
        "id": "eDjq9MC3IQy9",
        "colab_type": "code",
        "colab": {
          "base_uri": "https://localhost:8080/",
          "height": 204
        },
        "outputId": "06485552-b378-43ca-ceca-f051d72b7ec5"
      },
      "source": [
        "# Complete the staircase function below.\n",
        "def staircase(n):\n",
        "    space=n\n",
        "    for i in range(1,n+1):\n",
        "      print(\" \"*(space-1) + \"#\"*i)\n",
        "      space-=1\n",
        "\n",
        "if __name__ == '__main__':\n",
        "    n = int(input())\n",
        "    staircase(n)\n"
      ],
      "execution_count": 9,
      "outputs": [
        {
          "output_type": "stream",
          "text": [
            "10\n",
            "         #\n",
            "        ##\n",
            "       ###\n",
            "      ####\n",
            "     #####\n",
            "    ######\n",
            "   #######\n",
            "  ########\n",
            " #########\n",
            "##########\n"
          ],
          "name": "stdout"
        }
      ]
    },
    {
      "cell_type": "markdown",
      "metadata": {
        "id": "XWBzEAx_IZwM",
        "colab_type": "text"
      },
      "source": [
        "Complexity is O(n).\n",
        "\n",
        "---\n",
        "\n"
      ]
    },
    {
      "cell_type": "markdown",
      "metadata": {
        "id": "qQbYDUEJI5jF",
        "colab_type": "text"
      },
      "source": [
        "### **Mini-Max Sum**\n",
        "\n",
        "Given an array of n elements, find minimum sum by adding 4 smaller elements and find max sum by adding 4 greater elelemts."
      ]
    },
    {
      "cell_type": "code",
      "metadata": {
        "id": "Ry1Wz6hEJJgb",
        "colab_type": "code",
        "colab": {
          "base_uri": "https://localhost:8080/",
          "height": 51
        },
        "outputId": "12858a49-a604-483f-cc98-804669133dce"
      },
      "source": [
        "#The best solution I could think of is to sort the array \n",
        "#in ascending order. The sum of first 4 elements is min sum \n",
        "#and sum of last four elelemts is max suum.\n",
        "\n",
        "# Complete the miniMaxSum function below.\n",
        "def miniMaxSum(arr):\n",
        "    arr.sort() \n",
        "    print(sum(arr[:4]),sum(arr[len(arr)-4:len(arr)])) #Did it in single line of code\n",
        "\n",
        "if __name__ == '__main__':\n",
        "    arr = list(map(int, input().rstrip().split()))\n",
        "    miniMaxSum(arr)\n"
      ],
      "execution_count": 10,
      "outputs": [
        {
          "output_type": "stream",
          "text": [
            "1 2 3 4 5\n",
            "10 14\n"
          ],
          "name": "stdout"
        }
      ]
    },
    {
      "cell_type": "markdown",
      "metadata": {
        "id": "ek6EDAHwJk2w",
        "colab_type": "text"
      },
      "source": [
        "**Complexity:** The sort function in python promises complexity no better than O(nlogn) both in average and worst case. \n",
        "sum function is equal to number of elements that it has to sum, in this case 4. so final complexity is **O(nlogn)**. \n",
        "\n",
        "---\n",
        "\n"
      ]
    },
    {
      "cell_type": "markdown",
      "metadata": {
        "id": "dXRqFiHzLT5P",
        "colab_type": "text"
      },
      "source": [
        "### **Birthday Cake Candles**\n",
        "\n",
        "Niece birthday cake has candles equal to her age. If she is turning 4, it will have 4 candles. If hegiths to candles are 4,4,1,3. She will blow out tallest candles first. Find how many candles will she blow out first? (In this case 2, because there are two candles of tallest height 4).\n",
        "\n"
      ]
    },
    {
      "cell_type": "code",
      "metadata": {
        "id": "MQ4sSN4WLyLk",
        "colab_type": "code",
        "colab": {
          "base_uri": "https://localhost:8080/",
          "height": 68
        },
        "outputId": "6984237d-0933-43ee-ceaf-a6c250cc59a7"
      },
      "source": [
        "from collections import Counter\n",
        "\n",
        "# Complete the birthdayCakeCandles function below.\n",
        "def birthdayCakeCandles(ar):\n",
        "    maxx=max(ar)\n",
        "    count=0\n",
        "    for i in ar:\n",
        "        if(i==maxx):\n",
        "            count+=1\n",
        "    return count\n",
        "     \n",
        "if __name__ == '__main__':\n",
        "    \n",
        "    ar_count = int(input())\n",
        "    ar = list(map(int, input().rstrip().split()))\n",
        "    result = birthdayCakeCandles(ar)\n",
        "    print(result)\n"
      ],
      "execution_count": 11,
      "outputs": [
        {
          "output_type": "stream",
          "text": [
            "4\n",
            "3 2 1 3\n",
            "2\n"
          ],
          "name": "stdout"
        }
      ]
    },
    {
      "cell_type": "markdown",
      "metadata": {
        "id": "CtF3YpL_Plee",
        "colab_type": "text"
      },
      "source": [
        "Complexity for max function is O(n). For loop is linear search so overall complexity is **O(n)**.\n",
        "\n",
        "---\n",
        "\n"
      ]
    },
    {
      "cell_type": "markdown",
      "metadata": {
        "id": "nBxkO2qiQiCF",
        "colab_type": "text"
      },
      "source": [
        "### **Time Conversion**\n",
        "\n",
        "Convert 12 hour format into 24 hour. If it is 12A.M. It should be 00 in 24 hour format."
      ]
    },
    {
      "cell_type": "code",
      "metadata": {
        "id": "9ipEN0AOQsGv",
        "colab_type": "code",
        "colab": {
          "base_uri": "https://localhost:8080/",
          "height": 51
        },
        "outputId": "4935ba23-9caf-4e50-e070-3aaffb228219"
      },
      "source": [
        "# Complete the timeConversion function below.\n",
        "def timeConversion(s):\n",
        "    ar=int(s[0:2])\n",
        "    if(s[len(s)-2:len(s)]==\"PM\" and ar!=12): #If it is PM and not equal to 12.\n",
        "        ar+=12\n",
        "    elif(ar==12 and s[len(s)-2:]==\"AM\"): #If it is 12A.M. It should be 00 in 24 hour format.\n",
        "        ar=00\n",
        "    if(ar<10): #3 should be 03 in 24 hour format. So appending 0 before string.\n",
        "        ar=\"0\" + str(ar)\n",
        "    else:\n",
        "        ar=str(ar)\n",
        "    ar+=s[2:] \n",
        "    ar=ar[:len(ar)-2]\n",
        "    return ar\n",
        "    \n",
        "if __name__ == '__main__':\n",
        "    s = input()\n",
        "    result = timeConversion(s)\n",
        "    print(result)\n"
      ],
      "execution_count": 12,
      "outputs": [
        {
          "output_type": "stream",
          "text": [
            "07:05:45PM\n",
            "19:05:45\n"
          ],
          "name": "stdout"
        }
      ]
    },
    {
      "cell_type": "markdown",
      "metadata": {
        "id": "Nh3frwOYRs4k",
        "colab_type": "text"
      },
      "source": [
        "Complexity os **O(k)** where k is equal to the size of list slice.\n",
        "\n",
        "---\n",
        "\n"
      ]
    }
  ]
}